{
 "cells": [
  {
   "cell_type": "markdown",
   "id": "ecccf8c5",
   "metadata": {},
   "source": [
    "# Imports"
   ]
  },
  {
   "cell_type": "code",
   "execution_count": 1,
   "id": "0c2a8193",
   "metadata": {},
   "outputs": [],
   "source": [
    "import os\n",
    "\n",
    "import pandas as pd\n",
    "import numpy as np\n",
    "import scipy as stats\n",
    "import joblib\n",
    "import time\n",
    "import bisect\n",
    "import gc\n",
    "import sklearn.metrics as mtrcs\n",
    "# import optuna\n",
    "\n",
    "from random import randint\n",
    "from typing import Text\n",
    "from tqdm import tqdm\n",
    "from sklearn.model_selection import train_test_split, StratifiedKFold, GridSearchCV, KFold\n",
    "from catboost import CatBoostRegressor, CatBoostClassifier\n",
    "\n",
    "from sklearn.preprocessing import label_binarize\n",
    "\n",
    "from sklearn.metrics import f1_score, accuracy_score, \\\n",
    "roc_auc_score, classification_report, r2_score, precision_score, recall_score, \\\n",
    "log_loss\n",
    "\n",
    "import warnings\n",
    "warnings.filterwarnings(\"ignore\");\n",
    "\n",
    "RAND = 10\n",
    "N_FOLDS = 5"
   ]
  },
  {
   "cell_type": "code",
   "execution_count": 2,
   "id": "ca61beef",
   "metadata": {},
   "outputs": [],
   "source": [
    "from get_metrics import get_metrics_classification, roc_auc_score, f1_score\n",
    "from sklearn.metrics import f1_score, accuracy_score, \\\n",
    "roc_auc_score, classification_report, r2_score, precision_score, recall_score, \\\n",
    "log_loss"
   ]
  },
  {
   "cell_type": "code",
   "execution_count": 3,
   "id": "f1030c04",
   "metadata": {},
   "outputs": [],
   "source": [
    "def get_metrics_multiclass(y_test_bin, y_test, y_pred, y_prob, name,\n",
    "                           type_multi):\n",
    "    \"\"\"\n",
    "    y_test_bin - бинаризованные тестовые метки класса\n",
    "    y_test - метки класса без бинаризации\n",
    "    y_prob - предсказанные вероятности классов\n",
    "    name - название модели/подхода\n",
    "    type_multi - тип многоклассовой классификации для ROC-AUC (ovo/ovr)\n",
    "    \"\"\"\n",
    "    \n",
    "    df_metrics = pd.DataFrame()\n",
    "\n",
    "    df_metrics['model'] = [name]\n",
    "    \n",
    "#     df_metrics['ROC_AUC'] = roc_auc_score(y_test_bin,\n",
    "#                                           y_prob,\n",
    "#                                           multi_class=type_multi)\n",
    "#     df_metrics['Precision_micro'] = precision_score(y_test,\n",
    "#                                                     y_pred,\n",
    "#                                                     average='micro')\n",
    "#     df_metrics['Precision_macro'] = precision_score(y_test,\n",
    "#                                                     y_pred,\n",
    "#                                                     average='macro')\n",
    "\n",
    "#     df_metrics['Recall_micro'] = recall_score(y_test, y_pred, average='micro')\n",
    "#     df_metrics['Recall_macro'] = recall_score(y_test, y_pred, average='macro')\n",
    "    df_metrics['F1_weighted'] = f1_score(y_test, y_pred, average=\"weighted\") \n",
    "#     df_metrics['F1_weighted_train'] = f1_score(y_test, y_pred_train, average=\"weighted\") \n",
    "#     df_metrics['F1_micro'] = f1_score(y_test, y_pred, average='micro')\n",
    "#     df_metrics['F1_macro'] = f1_score(y_test, y_pred, average='macro')\n",
    "    \n",
    "#     df_metrics['Logloss'] = log_loss(y_test, y_prob)\n",
    "\n",
    "    return df_metrics"
   ]
  },
  {
   "cell_type": "code",
   "execution_count": 4,
   "id": "19d5b368",
   "metadata": {},
   "outputs": [],
   "source": [
    "def get_f1_score_overfitting(model, X_train, y_train, X_test, y_test, name):\n",
    "    \"\"\"\n",
    "    \n",
    "    \"\"\"\n",
    "    df_metrics = pd.DataFrame()\n",
    "    \n",
    "    df_metrics['model'] = [name]\n",
    "    \n",
    "    y_pred_train = model.predict(X_train)\n",
    "    y_pred_test = model.predict(X_test)\n",
    "    \n",
    "    value_train = f1_score(y_train, y_pred_train, average=\"weighted\")\n",
    "    value_test = f1_score(y_test, y_pred_test, average=\"weighted\")\n",
    "\n",
    "    \n",
    "    df_metrics[\"F1_weighted_train\"] = float('{:.4f}'.format(value_train))\n",
    "    df_metrics[\"F1_weighted_test\"] = float('{:.4f}'.format(value_test))\n",
    "    df_metrics[\"delta\"] = f'{(abs(value_train - value_test)/value_test*100):.1f} %'\n",
    "\n",
    "    return df_metrics"
   ]
  },
  {
   "cell_type": "markdown",
   "id": "13f3a281",
   "metadata": {},
   "source": [
    "## Расположение папок с данными"
   ]
  },
  {
   "cell_type": "code",
   "execution_count": 5,
   "id": "e5cc09c4",
   "metadata": {},
   "outputs": [],
   "source": [
    "LOCAL_DATA_PATH = \"../data\"\n",
    "DATA_FILE = 'competition_data_final_pqt'\n",
    "\n",
    "# целевые переменные\n",
    "TARGET_FILE_AGE = 'targets_age_prep.parquet'\n",
    "TARGET_FILE_MALE = 'targets_is_male_prep.parquet'\n",
    "\n",
    "# id, по которым нужно предсказать пол и возраст\n",
    "SUBMIT_FILE = 'submit_2.pqt'\n",
    "\n",
    "# папка, куда будут сохраняться предобработанные данные\n",
    "PREP_DATA = 'preprocessed_data'\n",
    "\n",
    "LOCAL_DATA_PATH_mts = \"../data/ml_cup_data\""
   ]
  },
  {
   "cell_type": "code",
   "execution_count": 6,
   "id": "9c78c7c2",
   "metadata": {},
   "outputs": [],
   "source": [
    "def get_dataset(dataset_path: Text) -> pd.DataFrame:\n",
    "    \"\"\"\n",
    "    Получение данных по заданному пути\n",
    "    :param dataset_path: путь до данных\n",
    "    :return: датасет\n",
    "    \"\"\"\n",
    "    return pd.read_parquet(f\"{LOCAL_DATA_PATH}/{PREP_DATA}/{dataset_path}\")"
   ]
  },
  {
   "cell_type": "code",
   "execution_count": 7,
   "id": "076b9965",
   "metadata": {},
   "outputs": [],
   "source": [
    "# Split in train/test\n",
    "def split_train_test(dataset_path: Text, target: Text): #dataset: pd.DataFrame,\n",
    "    \"\"\"\n",
    "    Разделение данных на train/test\n",
    "    :param dataset: датасет\n",
    "    :return: train/test датасеты\n",
    "    \"\"\"\n",
    "\n",
    "    # get data\n",
    "    dataset = get_dataset(dataset_path)\n",
    "    cat_features = dataset.select_dtypes('category').columns.tolist()\n",
    "    \n",
    "    X = dataset.drop(['user_id', target], axis=1)\n",
    "    y = dataset[target]\n",
    "\n",
    "    # Тестовые\n",
    "    X_train, X_test, y_train, y_test = train_test_split(\n",
    "        X,\n",
    "        y,\n",
    "        test_size = 0.3,\n",
    "        stratify=y,\n",
    "        random_state = RAND\n",
    "    )\n",
    "\n",
    "    # Валидационные\n",
    "    X_train_, X_val, y_train_, y_val = train_test_split(X_train,\n",
    "                                                        y_train,\n",
    "                                                        test_size=0.15,\n",
    "                                                        random_state=RAND)\n",
    "\n",
    "    eval_set = [(X_val, y_val)]\n",
    "\n",
    "    print(f\"split_train_test {target} done\")\n",
    "    \n",
    "    return X_train, X_test, y_train, y_test, eval_set, cat_features, X_train_, y_train_"
   ]
  },
  {
   "cell_type": "markdown",
   "id": "b3deec78",
   "metadata": {},
   "source": [
    "# 5. ML parts"
   ]
  },
  {
   "cell_type": "markdown",
   "id": "e9e1446f",
   "metadata": {},
   "source": [
    "## 5.1.1. Получим оценку по возрасту"
   ]
  },
  {
   "cell_type": "markdown",
   "id": "2032c493",
   "metadata": {},
   "source": [
    "### CatBoostClassifier baseline"
   ]
  },
  {
   "cell_type": "code",
   "execution_count": 8,
   "id": "7c3a76fc",
   "metadata": {},
   "outputs": [],
   "source": [
    "def study_age_1(study_name: Text):\n",
    "    \"\"\"\n",
    "    \"\"\"\n",
    "\n",
    "    # get params\n",
    "#     with open(config_path) as file:\n",
    "#         config = yaml.load(file, Loader=yaml.FullLoader)\n",
    "#     preprocessing_config = config[\"preprocessing\"]\n",
    "#     train_config = config[\"train\"]\n",
    "    \n",
    "#     target=preprocessing_config[\"target_column\"]\n",
    "\n",
    "    X_train, X_test, y_train, y_test, eval_set, cat_features, X_train_, y_train_ = split_train_test(\n",
    "        \"prep_data_with_targets_age.parquet\",\n",
    "        \"age_target\")\n",
    "    \n",
    "    cat_params = {\n",
    "        'n_estimators' : 1500,\n",
    "        'random_state' : RAND,\n",
    "        'early_stopping_rounds' : 100,\n",
    "        'custom_loss' : ['TotalF1'],\n",
    "        'cat_features' : cat_features\n",
    "    }\n",
    "\n",
    "    model = CatBoostClassifier(**cat_params,\n",
    "                             task_type=\"GPU\")\n",
    "\n",
    "    model.fit(X_train,\n",
    "            y_train,\n",
    "            eval_set=eval_set,\n",
    "            verbose=False)\n",
    "    \n",
    "    print(f\"study_age_1 {study_name} fit\")\n",
    "    \n",
    "#     return model\n",
    "\n",
    "    # датасеты с метриками моделей\n",
    "    y = get_dataset(\"prep_data_with_targets_age.parquet\")[\"age_target\"]\n",
    "    y_test_bin = label_binarize(y_test, classes=list(set(y)))\n",
    "\n",
    "    y_pred = model.predict(X_test)\n",
    "    y_score = model.predict_proba(X_test)\n",
    "    \n",
    "\n",
    "    # Метрики\n",
    "    df_metrics = get_metrics_multiclass(y_test_bin=y_test_bin,\n",
    "                                         y_test=y_test,\n",
    "                                         y_pred=y_pred,\n",
    "                                         y_prob=y_score,\n",
    "                                         name=study_name,\n",
    "                                         type_multi='ovo')\n",
    "    df_metrics.to_parquet(f\"{LOCAL_DATA_PATH}/{PREP_DATA}/df_age_metrics.parquet\")\n",
    "    \n",
    "    # Переобучение\n",
    "    df_overfitting = get_f1_score_overfitting(model, \n",
    "                                              X_train, \n",
    "                                              y_train, \n",
    "                                              X_test, \n",
    "                                              y_test, \n",
    "                                              study_name)\n",
    "    df_overfitting.to_parquet(f\"{LOCAL_DATA_PATH}/{PREP_DATA}/df_age_overfitting.parquet\")    \n",
    "    \n",
    "    print(f\"study_age_1 {study_name} done\")\n",
    "    \n",
    "#     return df_metrics, df_overfitting"
   ]
  },
  {
   "cell_type": "code",
   "execution_count": 9,
   "id": "11f8b97b",
   "metadata": {},
   "outputs": [
    {
     "name": "stdout",
     "output_type": "stream",
     "text": [
      "split_train_test age_target done\n",
      "study_age_1 Cat_age_base fit\n",
      "study_age_1 Cat_age_base done\n"
     ]
    }
   ],
   "source": [
    "# df_metrics, df_overfitting = study_age_1('Cat_base')\n",
    "study_age_1('Cat_age_base')"
   ]
  },
  {
   "cell_type": "code",
   "execution_count": 10,
   "id": "7694de5c",
   "metadata": {},
   "outputs": [
    {
     "data": {
      "text/html": [
       "<div>\n",
       "<style scoped>\n",
       "    .dataframe tbody tr th:only-of-type {\n",
       "        vertical-align: middle;\n",
       "    }\n",
       "\n",
       "    .dataframe tbody tr th {\n",
       "        vertical-align: top;\n",
       "    }\n",
       "\n",
       "    .dataframe thead th {\n",
       "        text-align: right;\n",
       "    }\n",
       "</style>\n",
       "<table border=\"1\" class=\"dataframe\">\n",
       "  <thead>\n",
       "    <tr style=\"text-align: right;\">\n",
       "      <th></th>\n",
       "      <th>model</th>\n",
       "      <th>F1_weighted</th>\n",
       "    </tr>\n",
       "  </thead>\n",
       "  <tbody>\n",
       "    <tr>\n",
       "      <th>0</th>\n",
       "      <td>Cat_age_base</td>\n",
       "      <td>0.424165</td>\n",
       "    </tr>\n",
       "  </tbody>\n",
       "</table>\n",
       "</div>"
      ],
      "text/plain": [
       "          model  F1_weighted\n",
       "0  Cat_age_base     0.424165"
      ]
     },
     "execution_count": 10,
     "metadata": {},
     "output_type": "execute_result"
    }
   ],
   "source": [
    "# df_metrics\n",
    "# pd.read_parquet(f\"{LOCAL_DATA_PATH}/{PREP_DATA}/df_metrics.parquet\")\n",
    "get_dataset('df_age_metrics.parquet')"
   ]
  },
  {
   "cell_type": "code",
   "execution_count": 11,
   "id": "c159f9d2",
   "metadata": {},
   "outputs": [
    {
     "data": {
      "text/html": [
       "<div>\n",
       "<style scoped>\n",
       "    .dataframe tbody tr th:only-of-type {\n",
       "        vertical-align: middle;\n",
       "    }\n",
       "\n",
       "    .dataframe tbody tr th {\n",
       "        vertical-align: top;\n",
       "    }\n",
       "\n",
       "    .dataframe thead th {\n",
       "        text-align: right;\n",
       "    }\n",
       "</style>\n",
       "<table border=\"1\" class=\"dataframe\">\n",
       "  <thead>\n",
       "    <tr style=\"text-align: right;\">\n",
       "      <th></th>\n",
       "      <th>model</th>\n",
       "      <th>F1_weighted_train</th>\n",
       "      <th>F1_weighted_test</th>\n",
       "      <th>delta</th>\n",
       "    </tr>\n",
       "  </thead>\n",
       "  <tbody>\n",
       "    <tr>\n",
       "      <th>0</th>\n",
       "      <td>Cat_age_base</td>\n",
       "      <td>0.491</td>\n",
       "      <td>0.4242</td>\n",
       "      <td>15.8 %</td>\n",
       "    </tr>\n",
       "  </tbody>\n",
       "</table>\n",
       "</div>"
      ],
      "text/plain": [
       "          model  F1_weighted_train  F1_weighted_test   delta\n",
       "0  Cat_age_base              0.491            0.4242  15.8 %"
      ]
     },
     "execution_count": 11,
     "metadata": {},
     "output_type": "execute_result"
    }
   ],
   "source": [
    "# df_overfitting\n",
    "# pd.read_parquet(f\"{LOCAL_DATA_PATH}/{PREP_DATA}/df_overfitting.parquet\")\n",
    "get_dataset('df_age_overfitting.parquet')"
   ]
  },
  {
   "cell_type": "code",
   "execution_count": null,
   "id": "14211ef7",
   "metadata": {},
   "outputs": [],
   "source": []
  },
  {
   "cell_type": "code",
   "execution_count": 10,
   "id": "eaff505d",
   "metadata": {},
   "outputs": [
    {
     "data": {
      "text/html": [
       "<div>\n",
       "<style scoped>\n",
       "    .dataframe tbody tr th:only-of-type {\n",
       "        vertical-align: middle;\n",
       "    }\n",
       "\n",
       "    .dataframe tbody tr th {\n",
       "        vertical-align: top;\n",
       "    }\n",
       "\n",
       "    .dataframe thead th {\n",
       "        text-align: right;\n",
       "    }\n",
       "</style>\n",
       "<table border=\"1\" class=\"dataframe\">\n",
       "  <thead>\n",
       "    <tr style=\"text-align: right;\">\n",
       "      <th></th>\n",
       "      <th>model</th>\n",
       "      <th>F1_weighted</th>\n",
       "    </tr>\n",
       "  </thead>\n",
       "  <tbody>\n",
       "    <tr>\n",
       "      <th>0</th>\n",
       "      <td>Cat_age_base</td>\n",
       "      <td>0.451353</td>\n",
       "    </tr>\n",
       "  </tbody>\n",
       "</table>\n",
       "</div>"
      ],
      "text/plain": [
       "          model  F1_weighted\n",
       "0  Cat_age_base     0.451353"
      ]
     },
     "execution_count": 10,
     "metadata": {},
     "output_type": "execute_result"
    }
   ],
   "source": [
    "# df_metrics\n",
    "# pd.read_parquet(f\"{LOCAL_DATA_PATH}/{PREP_DATA}/df_metrics.parquet\")\n",
    "get_dataset('df_age_metrics.parquet')"
   ]
  },
  {
   "cell_type": "code",
   "execution_count": 11,
   "id": "9131bc56",
   "metadata": {},
   "outputs": [
    {
     "data": {
      "text/html": [
       "<div>\n",
       "<style scoped>\n",
       "    .dataframe tbody tr th:only-of-type {\n",
       "        vertical-align: middle;\n",
       "    }\n",
       "\n",
       "    .dataframe tbody tr th {\n",
       "        vertical-align: top;\n",
       "    }\n",
       "\n",
       "    .dataframe thead th {\n",
       "        text-align: right;\n",
       "    }\n",
       "</style>\n",
       "<table border=\"1\" class=\"dataframe\">\n",
       "  <thead>\n",
       "    <tr style=\"text-align: right;\">\n",
       "      <th></th>\n",
       "      <th>model</th>\n",
       "      <th>F1_weighted_train</th>\n",
       "      <th>F1_weighted_test</th>\n",
       "      <th>delta</th>\n",
       "    </tr>\n",
       "  </thead>\n",
       "  <tbody>\n",
       "    <tr>\n",
       "      <th>0</th>\n",
       "      <td>Cat_age_base</td>\n",
       "      <td>0.5141</td>\n",
       "      <td>0.4514</td>\n",
       "      <td>13.9 %</td>\n",
       "    </tr>\n",
       "  </tbody>\n",
       "</table>\n",
       "</div>"
      ],
      "text/plain": [
       "          model  F1_weighted_train  F1_weighted_test   delta\n",
       "0  Cat_age_base             0.5141            0.4514  13.9 %"
      ]
     },
     "execution_count": 11,
     "metadata": {},
     "output_type": "execute_result"
    }
   ],
   "source": [
    "# df_overfitting\n",
    "# pd.read_parquet(f\"{LOCAL_DATA_PATH}/{PREP_DATA}/df_overfitting.parquet\")\n",
    "get_dataset('df_age_overfitting.parquet')"
   ]
  },
  {
   "cell_type": "markdown",
   "id": "297c4ea5",
   "metadata": {},
   "source": [
    "тестовые подборы параметров:\n",
    "<!-- # 250\n",
    "# learning_rate : 0.32709699869155884\n",
    "# age f1_weighted score: 0.4428 \n",
    "# 8%\n",
    "\n",
    "# 500\n",
    "# age f1_weighted score: 0.4463\n",
    "# f1_score_weighted train: 0.494\n",
    "# f1_score_weighted test: 0.446\n",
    "# delta = 10.7 %  \n",
    "\n",
    "# 1000\n",
    "# learning_rate : 0.1784750074148178\n",
    "# age f1_weighted score: 0.4502\n",
    "\n",
    "# 1500\n",
    "# learning_rate : 0.11958499997854231\n",
    "# age f1_weighted score: 0.4514\n",
    "# f1_score_weighted train: 0.514\n",
    "# f1_score_weighted test: 0.451\n",
    "# delta = 13.9 %\n",
    "\n",
    "# 2500\n",
    "# f1_score_weighted train: 0.526\n",
    "# f1_score_weighted test: 0.454\n",
    "# delta = 15.9 %\n",
    "\n",
    "# 5000\n",
    "# learning_rate : 0.08833400160074234\n",
    "# age f1_weighted score: 0.457\n",
    "# f1_score_weighted train: 0.543\n",
    "# f1_score_weighted test: 0.457\n",
    "# delta = 18.8 % -->"
   ]
  },
  {
   "cell_type": "markdown",
   "id": "2fa44fd8",
   "metadata": {},
   "source": [
    "### Подбор параметров с помощью randomized grid search"
   ]
  },
  {
   "cell_type": "code",
   "execution_count": 18,
   "id": "dc16fdb2",
   "metadata": {},
   "outputs": [],
   "source": [
    "def func_rgs_age( X_train, X_test, y_train, y_test, eval_set, cat_features):\n",
    "    # если требуется подбор параметров\n",
    "    grid = {\n",
    "        \"n_estimators\": [1500], \n",
    "        \"learning_rate\": [0.11958499997854231],\n",
    "        \"boosting_type\" : ['Ordered', 'Plain'], #\n",
    "        \"bootstrap_type\" : [\"Bayesian\", \"Bernoulli\", \"MVS\"], \n",
    "        \"grow_policy\": [\"SymmetricTree\", \"Depthwise\", \"Lossguide\"],\n",
    "        \"custom_metric\" : ['F1'],\n",
    "        \"max_depth\" : list(range(6, 10)),\n",
    "        \"l2_leaf_reg\" : [*np.arange(1, 10)], #\n",
    "        \"random_state\": [RAND]\n",
    "    }\n",
    "    \n",
    "    model = CatBoostClassifier(silent=True,\n",
    "                               cat_features=cat_features,\n",
    "                               task_type=\"GPU\",\n",
    "                               early_stopping_rounds=100\n",
    "                               )\n",
    "    \n",
    "    grid_search_result = model.randomized_search(grid,\n",
    "                                                 X=X_train,\n",
    "                                                 y=y_train,\n",
    "                                                 cv=5, # \n",
    "                                                 n_iter=50, #\n",
    "                                                 refit=True, # \n",
    "                                                 shuffle=True, #\n",
    "                                                 stratified=True, #\n",
    "                                                 calc_cv_statistics=True, ##\n",
    "                                                 search_by_train_test_split=True, ##\n",
    "                                                 verbose=False,\n",
    "                                                 plot=False) # True\n",
    "    \n",
    "#     joblib.dump(grid_search_result['params'], f'{LOCAL_DATA_PATH}/{PREP_DATA}/grid_search_result_age.pkl')\n",
    "    print(\"rgs age done\")\n",
    "    \n",
    "    return grid_search_result['params']"
   ]
  },
  {
   "cell_type": "code",
   "execution_count": 19,
   "id": "2cd085b7",
   "metadata": {},
   "outputs": [],
   "source": [
    "def study_age_2(study_name: Text, rgs ='N'):\n",
    "    \"\"\"\n",
    "    \"\"\"\n",
    "\n",
    "    # get params\n",
    "#     with open(config_path) as file:\n",
    "#         config = yaml.load(file, Loader=yaml.FullLoader)\n",
    "#     preprocessing_config = config[\"preprocessing\"]\n",
    "#     train_config = config[\"train\"]\n",
    "    \n",
    "#     target=preprocessing_config[\"target_column\"]\n",
    "\n",
    "\n",
    "    X_train, X_test, y_train, y_test, eval_set, cat_features, X_train_, y_train_ = split_train_test(\n",
    "        \"prep_data_with_targets_age.parquet\",\n",
    "        \"age_target\")\n",
    "    \n",
    "    # Подбор параметров\n",
    "    if rgs == 'Y':\n",
    "        # Если требуется подбор параметров\n",
    "        grid_search_result = func_rgs_age(X_train, X_test, y_train, y_test, eval_set, cat_features)\n",
    "    elif rgs == 'N':\n",
    "        # пользуемся уже подобранными параметрами rgs\n",
    "        grid_search_result = joblib.load(f'{LOCAL_DATA_PATH}/{PREP_DATA}/grid_search_result_age.pkl')    \n",
    "    \n",
    "    # тюнинг модели подобранными параметрами\n",
    "    cat_rgs = CatBoostClassifier(**grid_search_result,\n",
    "                              task_type=\"GPU\",\n",
    "                              loss_function='MultiClass')\n",
    "    \n",
    "    cat_rgs.fit(X_train_,\n",
    "                 y_train_,\n",
    "                 cat_features=cat_features,\n",
    "                 eval_set=eval_set,\n",
    "                 verbose=False,\n",
    "                 early_stopping_rounds=100)\n",
    "    \n",
    "    # saving model\n",
    "    joblib.dump(cat_rgs, f'{LOCAL_DATA_PATH}/{PREP_DATA}/model_cat_grid_age.pkl')    \n",
    "    print(f\"study_age_2 {study_name} done\")\n",
    "    \n",
    "    # датасеты с метриками моделей\n",
    "    y = get_dataset(\"prep_data_with_targets_age.parquet\")[\"age_target\"]\n",
    "    y_test_bin = label_binarize(y_test, classes=list(set(y)))\n",
    "    \n",
    "    y_pred = cat_rgs.predict(X_test)\n",
    "    y_score = cat_rgs.predict_proba(X_test)\n",
    "    \n",
    "    # Добавление метрик\n",
    "    df_metrics = get_dataset('df_age_metrics.parquet')\n",
    "    df_metrics = pd.concat([df_metrics,\n",
    "                             get_metrics_multiclass(y_test_bin=y_test_bin,\n",
    "                                                    y_test=y_test,\n",
    "                                                    y_pred=y_pred,\n",
    "                                                    y_prob=y_score,\n",
    "                                                    name=study_name,\n",
    "                                                    type_multi='ovo')\n",
    "                            ])\n",
    "    \n",
    "#     df_metrics = df_metrics.append(\n",
    "#         get_metrics_multiclass(y_test_bin=y_test_bin,\n",
    "#                                y_test=y_test,\n",
    "#                                y_pred=y_pred,\n",
    "#                                y_prob=y_score,\n",
    "#                                name=study_name,\n",
    "#                                type_multi='ovo'))\n",
    "    \n",
    "    df_metrics.to_parquet(f\"{LOCAL_DATA_PATH}/{PREP_DATA}/df_age_metrics.parquet\")\n",
    "    \n",
    "    df_overfitting = get_dataset('df_age_overfitting.parquet')\n",
    "    df_overfitting = pd.concat([df_overfitting, get_f1_score_overfitting(cat_rgs, \n",
    "                                                                         X_train, \n",
    "                                                                         y_train, \n",
    "                                                                         X_test, \n",
    "                                                                         y_test, \n",
    "                                                                         study_name)\n",
    "                               ])\n",
    "                                \n",
    "#     df_overfitting = df_overfitting.append(get_f1_score_overfitting(cat_rgs, \n",
    "#                                                                     X_train, \n",
    "#                                                                     y_train, \n",
    "#                                                                     X_test, \n",
    "#                                                                     y_test, \n",
    "#                                                                     study_name))\n",
    "    df_overfitting.to_parquet(f\"{LOCAL_DATA_PATH}/{PREP_DATA}/df_age_overfitting.parquet\")\n",
    "    \n",
    "#     return df_metrics, df_overfitting, grid_search_result"
   ]
  },
  {
   "cell_type": "code",
   "execution_count": 20,
   "id": "115562bc",
   "metadata": {},
   "outputs": [
    {
     "name": "stdout",
     "output_type": "stream",
     "text": [
      "split_train_test age_target done\n",
      "bestTest = 1.301975038\n",
      "bestIteration = 1462\n",
      "bestTest = 1.294323449\n",
      "bestIteration = 1290\n",
      "bestTest = 1.301137833\n",
      "bestIteration = 1455\n",
      "bestTest = 1.29541919\n",
      "bestIteration = 1496\n",
      "bestTest = 1.303697625\n",
      "bestIteration = 1490\n",
      "bestTest = 1.305211228\n",
      "bestIteration = 1497\n",
      "bestTest = 1.301601761\n",
      "bestIteration = 1450\n",
      "bestTest = 1.292792413\n",
      "bestIteration = 1495\n",
      "bestTest = 1.299842829\n",
      "bestIteration = 1495\n",
      "bestTest = 1.308838023\n",
      "bestIteration = 824\n",
      "bestTest = 1.293286769\n",
      "bestIteration = 1447\n",
      "bestTest = 1.30557563\n",
      "bestIteration = 592\n",
      "bestTest = 1.295195942\n",
      "bestIteration = 1187\n",
      "bestTest = 1.2929211\n",
      "bestIteration = 1492\n",
      "bestTest = 1.303169459\n",
      "bestIteration = 1231\n",
      "bestTest = 1.294264283\n",
      "bestIteration = 1470\n",
      "bestTest = 1.304725007\n",
      "bestIteration = 956\n",
      "Training on fold [0/5]\n",
      "bestTest = 1.295514384\n",
      "bestIteration = 1499\n",
      "Training on fold [1/5]\n",
      "bestTest = 1.297975178\n",
      "bestIteration = 1329\n",
      "Training on fold [2/5]\n",
      "bestTest = 1.292417657\n",
      "bestIteration = 1492\n",
      "Training on fold [3/5]\n",
      "bestTest = 1.292033604\n",
      "bestIteration = 1499\n",
      "Training on fold [4/5]\n",
      "bestTest = 1.292524755\n",
      "bestIteration = 1499\n",
      "rgs age done\n",
      "study_age_2 Cat_age_rgs done\n"
     ]
    }
   ],
   "source": [
    "# df_metrics, df_overfitting, grid_search_result = study_age_2('Cat_rgs')\n",
    "study_age_2('Cat_age_rgs', 'Y')"
   ]
  },
  {
   "cell_type": "code",
   "execution_count": 15,
   "id": "d4273a34",
   "metadata": {},
   "outputs": [
    {
     "data": {
      "text/html": [
       "<style type=\"text/css\">\n",
       "#T_7fba3_row1_col0 {\n",
       "  background-color: lightblue;\n",
       "}\n",
       "</style>\n",
       "<table id=\"T_7fba3\">\n",
       "  <thead>\n",
       "    <tr>\n",
       "      <th class=\"blank level0\" >&nbsp;</th>\n",
       "      <th id=\"T_7fba3_level0_col0\" class=\"col_heading level0 col0\" >F1_weighted</th>\n",
       "    </tr>\n",
       "    <tr>\n",
       "      <th class=\"index_name level0\" >model</th>\n",
       "      <th class=\"blank col0\" >&nbsp;</th>\n",
       "    </tr>\n",
       "  </thead>\n",
       "  <tbody>\n",
       "    <tr>\n",
       "      <th id=\"T_7fba3_level0_row0\" class=\"row_heading level0 row0\" >Cat_age_base</th>\n",
       "      <td id=\"T_7fba3_row0_col0\" class=\"data row0 col0\" >0.451353</td>\n",
       "    </tr>\n",
       "    <tr>\n",
       "      <th id=\"T_7fba3_level0_row1\" class=\"row_heading level0 row1\" >Cat_age_rgs</th>\n",
       "      <td id=\"T_7fba3_row1_col0\" class=\"data row1 col0\" >0.454030</td>\n",
       "    </tr>\n",
       "  </tbody>\n",
       "</table>\n"
      ],
      "text/plain": [
       "<pandas.io.formats.style.Styler at 0x2c33f6eb6d0>"
      ]
     },
     "execution_count": 15,
     "metadata": {},
     "output_type": "execute_result"
    }
   ],
   "source": [
    "# df_metrics = df_metrics[:1]\n",
    "get_dataset('df_age_metrics.parquet').set_index('model').style.highlight_max(axis=0, color='lightblue')"
   ]
  },
  {
   "cell_type": "code",
   "execution_count": 16,
   "id": "8e756264",
   "metadata": {},
   "outputs": [
    {
     "data": {
      "text/html": [
       "<style type=\"text/css\">\n",
       "#T_ee6be_row1_col0, #T_ee6be_row1_col1, #T_ee6be_row1_col2 {\n",
       "  background-color: lightblue;\n",
       "}\n",
       "</style>\n",
       "<table id=\"T_ee6be_\">\n",
       "  <thead>\n",
       "    <tr>\n",
       "      <th class=\"blank level0\" >&nbsp;</th>\n",
       "      <th class=\"col_heading level0 col0\" >F1_weighted_train</th>\n",
       "      <th class=\"col_heading level0 col1\" >F1_weighted_test</th>\n",
       "      <th class=\"col_heading level0 col2\" >delta</th>\n",
       "    </tr>\n",
       "    <tr>\n",
       "      <th class=\"index_name level0\" >model</th>\n",
       "      <th class=\"blank col0\" >&nbsp;</th>\n",
       "      <th class=\"blank col1\" >&nbsp;</th>\n",
       "      <th class=\"blank col2\" >&nbsp;</th>\n",
       "    </tr>\n",
       "  </thead>\n",
       "  <tbody>\n",
       "    <tr>\n",
       "      <th id=\"T_ee6be_level0_row0\" class=\"row_heading level0 row0\" >Cat_age_base</th>\n",
       "      <td id=\"T_ee6be_row0_col0\" class=\"data row0 col0\" >0.514100</td>\n",
       "      <td id=\"T_ee6be_row0_col1\" class=\"data row0 col1\" >0.451400</td>\n",
       "      <td id=\"T_ee6be_row0_col2\" class=\"data row0 col2\" >13.9 %</td>\n",
       "    </tr>\n",
       "    <tr>\n",
       "      <th id=\"T_ee6be_level0_row1\" class=\"row_heading level0 row1\" >Cat_age_rgs</th>\n",
       "      <td id=\"T_ee6be_row1_col0\" class=\"data row1 col0\" >0.563700</td>\n",
       "      <td id=\"T_ee6be_row1_col1\" class=\"data row1 col1\" >0.454000</td>\n",
       "      <td id=\"T_ee6be_row1_col2\" class=\"data row1 col2\" >24.1 %</td>\n",
       "    </tr>\n",
       "  </tbody>\n",
       "</table>\n"
      ],
      "text/plain": [
       "<pandas.io.formats.style.Styler at 0x274c5ea97c0>"
      ]
     },
     "execution_count": 16,
     "metadata": {},
     "output_type": "execute_result"
    }
   ],
   "source": [
    "# df_overfitting = df_overfitting[:1]\n",
    "get_dataset('df_age_overfitting.parquet').set_index('model').style.highlight_max(axis=0, color='lightblue')"
   ]
  },
  {
   "cell_type": "markdown",
   "id": "9cc76168",
   "metadata": {},
   "source": [
    "### CatBoostClassifier grid_search_result\n",
    "\n",
    "Получаем модель по предсказанию возрастных классов на основе подобранных параметров"
   ]
  },
  {
   "cell_type": "markdown",
   "id": "c1605f8d",
   "metadata": {},
   "source": [
    "после подбора параметров метрика немного выросла, сделаем предсказание нужных сабмитов"
   ]
  },
  {
   "cell_type": "markdown",
   "id": "d9d7cd40",
   "metadata": {},
   "source": [
    "## 5.1.2. Обучение на всей подготовленной выборке по возрасту."
   ]
  },
  {
   "cell_type": "code",
   "execution_count": 16,
   "id": "f2a06eaa",
   "metadata": {},
   "outputs": [],
   "source": [
    "def study_age_3(study_name: Text):\n",
    "    \"\"\"\n",
    "    \"\"\"\n",
    "\n",
    "    # get params\n",
    "#     with open(config_path) as file:\n",
    "#         config = yaml.load(file, Loader=yaml.FullLoader)\n",
    "#     preprocessing_config = config[\"preprocessing\"]\n",
    "#     train_config = config[\"train\"]\n",
    "    \n",
    "#     target=preprocessing_config[\"target_column\"]\n",
    "\n",
    "    X_train, X_test, y_train, y_test, eval_set, cat_features, X_train_, y_train_ = split_train_test(\n",
    "        \"prep_data_with_targets_age.parquet\",\n",
    "        \"age_target\")\n",
    "\n",
    "    # get data\n",
    "    dataset = get_dataset(\"prep_data_with_targets_age.parquet\")\n",
    "    cat_features = dataset.select_dtypes('category').columns.tolist()\n",
    "    X = dataset.drop(['user_id', 'age_target'], axis=1)\n",
    "    y = dataset['age_target']\n",
    "    del dataset\n",
    "\n",
    "    cat_rgs_all = joblib.load(f'{LOCAL_DATA_PATH}/{PREP_DATA}/model_cat_grid_age.pkl')\n",
    "\n",
    "    # обучение модели на всём датасете\n",
    "    cat_rgs_all.fit(X,\n",
    "                    y,\n",
    "                    cat_features,\n",
    "                    verbose = False)\n",
    "\n",
    "    print(f\"study_age_3 {study_name} fit done\")   \n",
    "    \n",
    "    #save\n",
    "    joblib.dump(cat_rgs_all, f'{LOCAL_DATA_PATH}/{PREP_DATA}/model_fin_age.pkl')\n",
    "    \n",
    "    # предсказание возраста по сабмитам\n",
    "    df_submit = get_dataset('df_submit.parquet')\n",
    "    \n",
    "    fin_submit = df_submit[['user_id']]\n",
    "    fin_submit['age'] = cat_rgs_all.predict(df_submit.drop(['user_id'], axis = 1))\n",
    "\n",
    "    fin_submit.to_csv(f'{LOCAL_DATA_PATH}/{PREP_DATA}/fin_submit.csv', index = False)\n",
    "    \n",
    "    print(f\"study_age_3 {study_name} pred submit done\") \n",
    "\n",
    "    \n",
    "    # датасеты с метриками моделей\n",
    "    y = get_dataset(\"prep_data_with_targets_age.parquet\")[\"age_target\"]\n",
    "    y_test_bin = label_binarize(y_test, classes=list(set(y)))\n",
    "\n",
    "    y_pred = cat_rgs_all.predict(X_test)\n",
    "    y_score = cat_rgs_all.predict_proba(X_test)\n",
    "    \n",
    "    # Добавление\n",
    "    df_metrics = get_dataset('df_age_metrics.parquet')\n",
    "    df_metrics = pd.concat([df_metrics,\n",
    "                             get_metrics_multiclass(y_test_bin=y_test_bin,\n",
    "                                                    y_test=y_test,\n",
    "                                                    y_pred=y_pred,\n",
    "                                                    y_prob=y_score,\n",
    "                                                    name=study_name,\n",
    "                                                    type_multi='ovo')\n",
    "                            ])  \n",
    "    \n",
    "#     df_metrics = df_metrics.append(\n",
    "#         get_metrics_multiclass(y_test_bin=y_test_bin,\n",
    "#                                y_test=y_test,\n",
    "#                                y_pred=y_pred,\n",
    "#                                y_prob=y_score,\n",
    "#                                name=study_name,\n",
    "#                                type_multi='ovo'))\n",
    "    \n",
    "    df_metrics.to_parquet(f\"{LOCAL_DATA_PATH}/{PREP_DATA}/df_age_metrics.parquet\")\n",
    "    \n",
    "    df_overfitting = get_dataset('df_age_overfitting.parquet')\n",
    "    \n",
    "    df_overfitting = pd.concat([df_overfitting, get_f1_score_overfitting(cat_rgs_all, \n",
    "                                                                         X_train, \n",
    "                                                                         y_train, \n",
    "                                                                         X_test, \n",
    "                                                                         y_test, \n",
    "                                                                         study_name)\n",
    "                               ])\n",
    "    \n",
    "#     df_overfitting = df_overfitting.append(get_f1_score_overfitting(cat_rgs_all, \n",
    "#                                                                     X_train, \n",
    "#                                                                     y_train, \n",
    "#                                                                     X_test, \n",
    "#                                                                     y_test, \n",
    "#                                                                     study_name))\n",
    "    df_overfitting.to_parquet(f\"{LOCAL_DATA_PATH}/{PREP_DATA}/df_age_overfitting.parquet\")\n",
    "    \n",
    "#     return fin_submit"
   ]
  },
  {
   "cell_type": "code",
   "execution_count": 17,
   "id": "1aef0ca8",
   "metadata": {},
   "outputs": [
    {
     "name": "stdout",
     "output_type": "stream",
     "text": [
      "split_train_test age_target done\n",
      "study_age_3 Cat_age_rgs_all_data fit done\n",
      "study_age_3 Cat_age_rgs_all_data pred submit done\n"
     ]
    }
   ],
   "source": [
    "# fin_submit = study_age_3('Cat_rgs_all_data')\n",
    "study_age_3('Cat_age_rgs_all_data')"
   ]
  },
  {
   "cell_type": "code",
   "execution_count": 18,
   "id": "be7fc2d4",
   "metadata": {},
   "outputs": [
    {
     "data": {
      "text/html": [
       "<div>\n",
       "<style scoped>\n",
       "    .dataframe tbody tr th:only-of-type {\n",
       "        vertical-align: middle;\n",
       "    }\n",
       "\n",
       "    .dataframe tbody tr th {\n",
       "        vertical-align: top;\n",
       "    }\n",
       "\n",
       "    .dataframe thead th {\n",
       "        text-align: right;\n",
       "    }\n",
       "</style>\n",
       "<table border=\"1\" class=\"dataframe\">\n",
       "  <thead>\n",
       "    <tr style=\"text-align: right;\">\n",
       "      <th></th>\n",
       "      <th>user_id</th>\n",
       "      <th>age</th>\n",
       "      <th>is_male</th>\n",
       "    </tr>\n",
       "  </thead>\n",
       "  <tbody>\n",
       "    <tr>\n",
       "      <th>0</th>\n",
       "      <td>27</td>\n",
       "      <td>1</td>\n",
       "      <td>0.234487</td>\n",
       "    </tr>\n",
       "    <tr>\n",
       "      <th>1</th>\n",
       "      <td>83</td>\n",
       "      <td>0</td>\n",
       "      <td>0.872940</td>\n",
       "    </tr>\n",
       "    <tr>\n",
       "      <th>2</th>\n",
       "      <td>100</td>\n",
       "      <td>1</td>\n",
       "      <td>0.787966</td>\n",
       "    </tr>\n",
       "    <tr>\n",
       "      <th>3</th>\n",
       "      <td>115</td>\n",
       "      <td>0</td>\n",
       "      <td>0.382228</td>\n",
       "    </tr>\n",
       "    <tr>\n",
       "      <th>4</th>\n",
       "      <td>171</td>\n",
       "      <td>1</td>\n",
       "      <td>0.818335</td>\n",
       "    </tr>\n",
       "    <tr>\n",
       "      <th>...</th>\n",
       "      <td>...</td>\n",
       "      <td>...</td>\n",
       "      <td>...</td>\n",
       "    </tr>\n",
       "    <tr>\n",
       "      <th>144719</th>\n",
       "      <td>415180</td>\n",
       "      <td>2</td>\n",
       "      <td>0.460594</td>\n",
       "    </tr>\n",
       "    <tr>\n",
       "      <th>144720</th>\n",
       "      <td>415195</td>\n",
       "      <td>1</td>\n",
       "      <td>0.641969</td>\n",
       "    </tr>\n",
       "    <tr>\n",
       "      <th>144721</th>\n",
       "      <td>415248</td>\n",
       "      <td>1</td>\n",
       "      <td>0.536050</td>\n",
       "    </tr>\n",
       "    <tr>\n",
       "      <th>144722</th>\n",
       "      <td>415267</td>\n",
       "      <td>2</td>\n",
       "      <td>0.586211</td>\n",
       "    </tr>\n",
       "    <tr>\n",
       "      <th>144723</th>\n",
       "      <td>415310</td>\n",
       "      <td>2</td>\n",
       "      <td>0.480925</td>\n",
       "    </tr>\n",
       "  </tbody>\n",
       "</table>\n",
       "<p>144724 rows × 3 columns</p>\n",
       "</div>"
      ],
      "text/plain": [
       "        user_id  age   is_male\n",
       "0            27    1  0.234487\n",
       "1            83    0  0.872940\n",
       "2           100    1  0.787966\n",
       "3           115    0  0.382228\n",
       "4           171    1  0.818335\n",
       "...         ...  ...       ...\n",
       "144719   415180    2  0.460594\n",
       "144720   415195    1  0.641969\n",
       "144721   415248    1  0.536050\n",
       "144722   415267    2  0.586211\n",
       "144723   415310    2  0.480925\n",
       "\n",
       "[144724 rows x 3 columns]"
      ]
     },
     "execution_count": 18,
     "metadata": {},
     "output_type": "execute_result"
    }
   ],
   "source": [
    "pd.read_csv(f'{LOCAL_DATA_PATH}/{PREP_DATA}/fin_submit_age.csv')"
   ]
  },
  {
   "cell_type": "code",
   "execution_count": 19,
   "id": "c9e37ec1",
   "metadata": {},
   "outputs": [
    {
     "data": {
      "text/html": [
       "<style type=\"text/css\">\n",
       "#T_a7173_row2_col0 {\n",
       "  background-color: lightblue;\n",
       "}\n",
       "</style>\n",
       "<table id=\"T_a7173\">\n",
       "  <thead>\n",
       "    <tr>\n",
       "      <th class=\"blank level0\" >&nbsp;</th>\n",
       "      <th id=\"T_a7173_level0_col0\" class=\"col_heading level0 col0\" >F1_weighted</th>\n",
       "    </tr>\n",
       "    <tr>\n",
       "      <th class=\"index_name level0\" >model</th>\n",
       "      <th class=\"blank col0\" >&nbsp;</th>\n",
       "    </tr>\n",
       "  </thead>\n",
       "  <tbody>\n",
       "    <tr>\n",
       "      <th id=\"T_a7173_level0_row0\" class=\"row_heading level0 row0\" >Cat_age_base</th>\n",
       "      <td id=\"T_a7173_row0_col0\" class=\"data row0 col0\" >0.451353</td>\n",
       "    </tr>\n",
       "    <tr>\n",
       "      <th id=\"T_a7173_level0_row1\" class=\"row_heading level0 row1\" >Cat_age_rgs</th>\n",
       "      <td id=\"T_a7173_row1_col0\" class=\"data row1 col0\" >0.454030</td>\n",
       "    </tr>\n",
       "    <tr>\n",
       "      <th id=\"T_a7173_level0_row2\" class=\"row_heading level0 row2\" >Cat_age_rgs_all_data</th>\n",
       "      <td id=\"T_a7173_row2_col0\" class=\"data row2 col0\" >0.556110</td>\n",
       "    </tr>\n",
       "  </tbody>\n",
       "</table>\n"
      ],
      "text/plain": [
       "<pandas.io.formats.style.Styler at 0x2c33e795e50>"
      ]
     },
     "execution_count": 19,
     "metadata": {},
     "output_type": "execute_result"
    }
   ],
   "source": [
    "get_dataset('df_age_metrics.parquet').set_index('model').style.highlight_max(axis=0, color='lightblue')"
   ]
  },
  {
   "cell_type": "code",
   "execution_count": 20,
   "id": "2e304995",
   "metadata": {},
   "outputs": [
    {
     "data": {
      "text/html": [
       "<style type=\"text/css\">\n",
       "#T_a45cf_row1_col0, #T_a45cf_row1_col2, #T_a45cf_row2_col1 {\n",
       "  background-color: lightblue;\n",
       "}\n",
       "</style>\n",
       "<table id=\"T_a45cf\">\n",
       "  <thead>\n",
       "    <tr>\n",
       "      <th class=\"blank level0\" >&nbsp;</th>\n",
       "      <th id=\"T_a45cf_level0_col0\" class=\"col_heading level0 col0\" >F1_weighted_train</th>\n",
       "      <th id=\"T_a45cf_level0_col1\" class=\"col_heading level0 col1\" >F1_weighted_test</th>\n",
       "      <th id=\"T_a45cf_level0_col2\" class=\"col_heading level0 col2\" >delta</th>\n",
       "    </tr>\n",
       "    <tr>\n",
       "      <th class=\"index_name level0\" >model</th>\n",
       "      <th class=\"blank col0\" >&nbsp;</th>\n",
       "      <th class=\"blank col1\" >&nbsp;</th>\n",
       "      <th class=\"blank col2\" >&nbsp;</th>\n",
       "    </tr>\n",
       "  </thead>\n",
       "  <tbody>\n",
       "    <tr>\n",
       "      <th id=\"T_a45cf_level0_row0\" class=\"row_heading level0 row0\" >Cat_age_base</th>\n",
       "      <td id=\"T_a45cf_row0_col0\" class=\"data row0 col0\" >0.514100</td>\n",
       "      <td id=\"T_a45cf_row0_col1\" class=\"data row0 col1\" >0.451400</td>\n",
       "      <td id=\"T_a45cf_row0_col2\" class=\"data row0 col2\" >13.9 %</td>\n",
       "    </tr>\n",
       "    <tr>\n",
       "      <th id=\"T_a45cf_level0_row1\" class=\"row_heading level0 row1\" >Cat_age_rgs</th>\n",
       "      <td id=\"T_a45cf_row1_col0\" class=\"data row1 col0\" >0.563700</td>\n",
       "      <td id=\"T_a45cf_row1_col1\" class=\"data row1 col1\" >0.454000</td>\n",
       "      <td id=\"T_a45cf_row1_col2\" class=\"data row1 col2\" >24.1 %</td>\n",
       "    </tr>\n",
       "    <tr>\n",
       "      <th id=\"T_a45cf_level0_row2\" class=\"row_heading level0 row2\" >Cat_age_rgs_all_data</th>\n",
       "      <td id=\"T_a45cf_row2_col0\" class=\"data row2 col0\" >0.552700</td>\n",
       "      <td id=\"T_a45cf_row2_col1\" class=\"data row2 col1\" >0.556100</td>\n",
       "      <td id=\"T_a45cf_row2_col2\" class=\"data row2 col2\" >0.6 %</td>\n",
       "    </tr>\n",
       "  </tbody>\n",
       "</table>\n"
      ],
      "text/plain": [
       "<pandas.io.formats.style.Styler at 0x2c33e029ad0>"
      ]
     },
     "execution_count": 20,
     "metadata": {},
     "output_type": "execute_result"
    }
   ],
   "source": [
    "get_dataset('df_age_overfitting.parquet').set_index('model').style.highlight_max(axis=0, color='lightblue')"
   ]
  },
  {
   "cell_type": "code",
   "execution_count": 22,
   "id": "90b54fe3",
   "metadata": {},
   "outputs": [],
   "source": [
    "# df_metrics = get_dataset('df_age_metrics.parquet')[:3]\n",
    "# df_metrics.to_parquet(f\"{LOCAL_DATA_PATH}/{PREP_DATA}/df_age_metrics.parquet\")\n",
    "\n",
    "# df_overfitting = get_dataset('df_age_overfitting.parquet')[:3]\n",
    "# df_overfitting.to_parquet(f\"{LOCAL_DATA_PATH}/{PREP_DATA}/df_age_overfitting.parquet\")  "
   ]
  },
  {
   "cell_type": "markdown",
   "id": "33e8d542",
   "metadata": {},
   "source": [
    "## 5.2.1. Получим оценку по полу"
   ]
  },
  {
   "cell_type": "markdown",
   "id": "aaadb3ee",
   "metadata": {},
   "source": [
    "### CatBoostClassifier baseline"
   ]
  },
  {
   "cell_type": "code",
   "execution_count": 21,
   "id": "53d07185",
   "metadata": {},
   "outputs": [],
   "source": [
    "def get_metrics_gini(y_test, y_pred, name):  \n",
    "    \n",
    "    df_metrics = pd.DataFrame()\n",
    "\n",
    "    df_metrics['model'] = [name]\n",
    "        \n",
    "    df_metrics['Gini'] =  float('{:.4f}'.format(2 * mtrcs.roc_auc_score(y_test, y_pred) - 1))\n",
    "#     df_metrics['Gini'] =  int(f'{2 * mtrcs.roc_auc_score(y_test, y_pred) - 1:2.3f}')\n",
    "#     df_metrics['F1_weighted'] = f1_score(y_test, y_pred, average=\"weighted\") \n",
    "    return df_metrics"
   ]
  },
  {
   "cell_type": "code",
   "execution_count": 22,
   "id": "01becbdd",
   "metadata": {},
   "outputs": [],
   "source": [
    "def check_gini_overfitting(model, X_train, y_train, X_test, y_test, metric_fun, name):\n",
    "    \"\"\"\n",
    "    Проверка на overfitting для классификации\n",
    "    \"\"\"\n",
    "    df_metrics = pd.DataFrame()\n",
    "    \n",
    "    df_metrics['model'] = [name]\n",
    "    \n",
    "    y_pred_train = model.predict_proba(X_train)[:,1]\n",
    "    y_pred_test = model.predict_proba(X_test)[:,1]\n",
    "    value_train = 2 * metric_fun(y_train, y_pred_train) - 1\n",
    "    value_test = 2 * metric_fun(y_test, y_pred_test) - 1\n",
    "\n",
    "    df_metrics[\"Gini_train\"] = float('{:.4f}'.format(value_train))\n",
    "    df_metrics[\"Gini_test\"] = float('{:.4f}'.format(value_test))\n",
    "    df_metrics[\"delta\"] = f'{(abs(value_train - value_test)/value_test*100):.1f} %'\n",
    "    \n",
    "#     print(f'Gini train: %.3f' % value_train)\n",
    "#     print(f'Gini test: %.3f' % value_test)\n",
    "#     print(f'delta = {(abs(value_train - value_test)/value_test*100):.1f} %')\n",
    "    return df_metrics"
   ]
  },
  {
   "cell_type": "code",
   "execution_count": 23,
   "id": "e1cd701c",
   "metadata": {},
   "outputs": [],
   "source": [
    "def study_gender_1(study_name: Text):\n",
    "    \"\"\"\n",
    "    \"\"\"\n",
    "\n",
    "    X_train, X_test, y_train, y_test, eval_set, cat_features, X_train_, y_train_ = split_train_test(\n",
    "        \"prep_data_with_targets_is_male.parquet\",\n",
    "        \"is_male\")\n",
    "    \n",
    "    cat_params = {'n_estimators' : 1500,\n",
    "              'random_state' : RAND,\n",
    "              'early_stopping_rounds' : 100,\n",
    "              'cat_features' : cat_features\n",
    "             }\n",
    "\n",
    "    model = CatBoostClassifier(**cat_params,\n",
    "                             task_type=\"GPU\")\n",
    "\n",
    "    model.fit(X_train,\n",
    "            y_train,\n",
    "            eval_set=eval_set,\n",
    "            verbose=False)\n",
    "    \n",
    "    y_pred = model.predict_proba(X_test)[:,1]\n",
    "    \n",
    "    print(f\"study_1 {study_name} fit\")\n",
    "    \n",
    "    # Метрики\n",
    "    df_metrics = get_metrics_gini(y_test=y_test,\n",
    "                                  y_pred=y_pred,\n",
    "                                  name=study_name)\n",
    "    df_metrics.to_parquet(f\"{LOCAL_DATA_PATH}/{PREP_DATA}/df_gender_metrics.parquet\")\n",
    "    \n",
    "    # Переобучение\n",
    "    df_overfitting = check_gini_overfitting(model, \n",
    "                                            X_train, \n",
    "                                            y_train, \n",
    "                                            X_test, \n",
    "                                            y_test, \n",
    "                                            roc_auc_score,\n",
    "                                            study_name)\n",
    "    df_overfitting.to_parquet(f\"{LOCAL_DATA_PATH}/{PREP_DATA}/df_gender_overfitting.parquet\")    \n",
    "    \n",
    "    print(f\"study_1 {study_name} done\")\n",
    "    \n",
    "#     return df_metrics, df_overfitting"
   ]
  },
  {
   "cell_type": "code",
   "execution_count": 24,
   "id": "b504fa72",
   "metadata": {},
   "outputs": [
    {
     "name": "stdout",
     "output_type": "stream",
     "text": [
      "split_train_test is_male done\n",
      "study_1 Cat_gender_base fit\n",
      "study_1 Cat_gender_base done\n"
     ]
    }
   ],
   "source": [
    "study_gender_1(\"Cat_gender_base\")"
   ]
  },
  {
   "cell_type": "code",
   "execution_count": 27,
   "id": "b1d7a539",
   "metadata": {},
   "outputs": [
    {
     "data": {
      "text/html": [
       "<div>\n",
       "<style scoped>\n",
       "    .dataframe tbody tr th:only-of-type {\n",
       "        vertical-align: middle;\n",
       "    }\n",
       "\n",
       "    .dataframe tbody tr th {\n",
       "        vertical-align: top;\n",
       "    }\n",
       "\n",
       "    .dataframe thead th {\n",
       "        text-align: right;\n",
       "    }\n",
       "</style>\n",
       "<table border=\"1\" class=\"dataframe\">\n",
       "  <thead>\n",
       "    <tr style=\"text-align: right;\">\n",
       "      <th></th>\n",
       "      <th>model</th>\n",
       "      <th>Gini</th>\n",
       "    </tr>\n",
       "  </thead>\n",
       "  <tbody>\n",
       "    <tr>\n",
       "      <th>0</th>\n",
       "      <td>Cat_gender_base</td>\n",
       "      <td>0.7247</td>\n",
       "    </tr>\n",
       "  </tbody>\n",
       "</table>\n",
       "</div>"
      ],
      "text/plain": [
       "             model    Gini\n",
       "0  Cat_gender_base  0.7247"
      ]
     },
     "execution_count": 27,
     "metadata": {},
     "output_type": "execute_result"
    }
   ],
   "source": [
    "get_dataset('df_gender_metrics.parquet')#.set_index('model').style.highlight_max(axis=0, color='lightblue')"
   ]
  },
  {
   "cell_type": "code",
   "execution_count": 28,
   "id": "ec5c9f99",
   "metadata": {},
   "outputs": [
    {
     "data": {
      "text/html": [
       "<div>\n",
       "<style scoped>\n",
       "    .dataframe tbody tr th:only-of-type {\n",
       "        vertical-align: middle;\n",
       "    }\n",
       "\n",
       "    .dataframe tbody tr th {\n",
       "        vertical-align: top;\n",
       "    }\n",
       "\n",
       "    .dataframe thead th {\n",
       "        text-align: right;\n",
       "    }\n",
       "</style>\n",
       "<table border=\"1\" class=\"dataframe\">\n",
       "  <thead>\n",
       "    <tr style=\"text-align: right;\">\n",
       "      <th></th>\n",
       "      <th>model</th>\n",
       "      <th>Gini_train</th>\n",
       "      <th>Gini_test</th>\n",
       "      <th>delta</th>\n",
       "    </tr>\n",
       "  </thead>\n",
       "  <tbody>\n",
       "    <tr>\n",
       "      <th>0</th>\n",
       "      <td>Cat_gender_base</td>\n",
       "      <td>0.7534</td>\n",
       "      <td>0.7247</td>\n",
       "      <td>4.0 %</td>\n",
       "    </tr>\n",
       "  </tbody>\n",
       "</table>\n",
       "</div>"
      ],
      "text/plain": [
       "             model  Gini_train  Gini_test  delta\n",
       "0  Cat_gender_base      0.7534     0.7247  4.0 %"
      ]
     },
     "execution_count": 28,
     "metadata": {},
     "output_type": "execute_result"
    }
   ],
   "source": [
    "get_dataset('df_gender_overfitting.parquet')#.set_index('model').style.highlight_max(axis=0, color='lightblue')"
   ]
  },
  {
   "cell_type": "markdown",
   "id": "e9fa97de",
   "metadata": {},
   "source": [
    "подбор оптимальных значений для rgs\n",
    "<!-- \n",
    "# 'n_estimators' : 250\n",
    "# GINI по полу 0.693\n",
    "# learning_rate : 0.08112899959087372\n",
    "\n",
    "# 'n_estimators' : 1500\n",
    "# GINI по полу 0.725\n",
    "# learning_rate : 0.03863900154829025\n",
    "\n",
    "# 'n_estimators' : 2500\n",
    "# GINI по полу 0.730\n",
    "# learning_rate : 0.03127399832010269\n",
    "\n",
    "# 'n_estimators' : 5000\n",
    "# GINI по полу 0.735\n",
    "# learning_rate : 0.023471999913454056 -->"
   ]
  },
  {
   "cell_type": "markdown",
   "id": "69842fb8",
   "metadata": {},
   "source": [
    "### Подбор параметров с помощью randomized grid search"
   ]
  },
  {
   "cell_type": "code",
   "execution_count": 27,
   "id": "ad5f1bc9",
   "metadata": {},
   "outputs": [],
   "source": [
    "def func_rgs_gender():\n",
    "    # если требуется подбор параметров\n",
    "    grid = {\n",
    "    \"n_estimators\": [1500], \n",
    "    \"learning_rate\": [0.03863900154829025],\n",
    "    \"boosting_type\" : ['Plain','Ordered'], \n",
    "    \"bootstrap_type\" : [\"Bayesian\", \"Bernoulli\"], # ,\"MVS\" прерывает работу rgs \n",
    "    \"grow_policy\": [\"SymmetricTree\", \"Depthwise\", \"Lossguide\"],\n",
    "    \"l2_leaf_reg\": np.arange(0.1, 1, 0.05), # , \"None\"\n",
    "    \"random_strength\": [1, 2, 5, 10, 20, 50, 100, \"None\"],\n",
    "    \"random_state\": [RAND]\n",
    "    }\n",
    "    \n",
    "    model = CatBoostClassifier(silent=True,\n",
    "                               cat_features=cat_features,\n",
    "                               task_type=\"GPU\",\n",
    "                               early_stopping_rounds=100\n",
    "                               )\n",
    "    \n",
    "    grid_search_result = model.randomized_search(grid,\n",
    "                                                 X=X_train,\n",
    "                                                 y=y_train,\n",
    "                                                 cv=5, # \n",
    "                                                 n_iter=50, #\n",
    "                                                 refit=True, # \n",
    "                                                 shuffle=True, #\n",
    "                                                 stratified=True, #\n",
    "                                                 calc_cv_statistics=True, ##\n",
    "                                                 search_by_train_test_split=True, ##\n",
    "                                                 verbose=False,\n",
    "                                                 plot=False) # True\n",
    "    \n",
    "    joblib.dump(grid_search_result['params'], f'{LOCAL_DATA_PATH}/{PREP_DATA}/grid_search_result_gender.pkl')\n",
    "    \n",
    "    print(\"rgs gender done\")\n",
    "    \n",
    "    return grid_search_result['params']"
   ]
  },
  {
   "cell_type": "markdown",
   "id": "1dfd2d95",
   "metadata": {},
   "source": [
    "### CatBoostClassifier grid_search_result\n",
    "\n",
    "Получаем модель по предсказанию пола на основе подобранных параметров"
   ]
  },
  {
   "cell_type": "code",
   "execution_count": 30,
   "id": "c5b81160",
   "metadata": {},
   "outputs": [],
   "source": [
    "def study_gender_2(study_name: Text):\n",
    "    \"\"\"\n",
    "    \"\"\"\n",
    "\n",
    "\n",
    "    X_train, X_test, y_train, y_test, eval_set, cat_features, X_train_, y_train_ = split_train_test(\n",
    "        \"prep_data_with_targets_is_male.parquet\",\n",
    "        \"is_male\")\n",
    "    \n",
    "    # Если требуется подбор параметров #################\n",
    "#     grid_search_result = func_rgs_gender()\n",
    "\n",
    "    # пользуемся уже подобранными параметрами rgs\n",
    "    grid_search_result = joblib.load(f'{LOCAL_DATA_PATH}/{PREP_DATA}/grid_search_result_gender.pkl')    \n",
    "    \n",
    "    # тюнинг модели подобранными параметрами\n",
    "    cat_rgs = CatBoostClassifier(**grid_search_result,\n",
    "                                 task_type=\"GPU\")\n",
    "    \n",
    "    cat_rgs.fit(X_train_,\n",
    "                 y_train_,\n",
    "                 cat_features=cat_features,\n",
    "                 eval_set=eval_set,\n",
    "                 verbose=False,\n",
    "                 early_stopping_rounds=100)\n",
    "    y_pred = cat_rgs.predict_proba(X_test)[:,1]  \n",
    "    \n",
    "    print(f\"study_gender_2 {study_name} fit\")    \n",
    "    \n",
    "    # saving model\n",
    "    joblib.dump(cat_rgs, f'{LOCAL_DATA_PATH}/{PREP_DATA}/model_cat_rgs_gender.pkl')    \n",
    "\n",
    "\n",
    "    # датасеты с метриками моделей  \n",
    "    # Добавление метрик\n",
    "    df_metrics = get_dataset('df_gender_metrics.parquet')\n",
    "    df_metrics = pd.concat([df_metrics, get_metrics_gini(y_test=y_test,\n",
    "                                                         y_pred=y_pred,\n",
    "                                                         name=study_name)\n",
    "                           ])\n",
    "    df_metrics.to_parquet(f\"{LOCAL_DATA_PATH}/{PREP_DATA}/df_gender_metrics.parquet\")\n",
    "    \n",
    "    # Переобучение\n",
    "    df_overfitting = get_dataset('df_gender_overfitting.parquet')\n",
    "    df_overfitting = pd.concat([df_overfitting, check_gini_overfitting(cat_rgs,\n",
    "                                                                       X_train,\n",
    "                                                                       y_train, \n",
    "                                                                       X_test, \n",
    "                                                                       y_test, \n",
    "                                                                       roc_auc_score,\n",
    "                                                                       study_name)\n",
    "                               ])\n",
    "    df_overfitting.to_parquet(f\"{LOCAL_DATA_PATH}/{PREP_DATA}/df_gender_overfitting.parquet\")    \n",
    "    \n",
    "#     return df_metrics, df_overfitting, grid_search_result"
   ]
  },
  {
   "cell_type": "code",
   "execution_count": 31,
   "id": "bc0b6b2a",
   "metadata": {},
   "outputs": [
    {
     "name": "stdout",
     "output_type": "stream",
     "text": [
      "split_train_test is_male done\n",
      "study_gender_2 Cat_genedr_rgs fit\n"
     ]
    }
   ],
   "source": [
    "study_gender_2('Cat_genedr_rgs')"
   ]
  },
  {
   "cell_type": "code",
   "execution_count": 32,
   "id": "4a95d906",
   "metadata": {},
   "outputs": [
    {
     "data": {
      "text/html": [
       "<div>\n",
       "<style scoped>\n",
       "    .dataframe tbody tr th:only-of-type {\n",
       "        vertical-align: middle;\n",
       "    }\n",
       "\n",
       "    .dataframe tbody tr th {\n",
       "        vertical-align: top;\n",
       "    }\n",
       "\n",
       "    .dataframe thead th {\n",
       "        text-align: right;\n",
       "    }\n",
       "</style>\n",
       "<table border=\"1\" class=\"dataframe\">\n",
       "  <thead>\n",
       "    <tr style=\"text-align: right;\">\n",
       "      <th></th>\n",
       "      <th>model</th>\n",
       "      <th>Gini</th>\n",
       "    </tr>\n",
       "  </thead>\n",
       "  <tbody>\n",
       "    <tr>\n",
       "      <th>0</th>\n",
       "      <td>Cat_gender_base</td>\n",
       "      <td>0.7247</td>\n",
       "    </tr>\n",
       "    <tr>\n",
       "      <th>0</th>\n",
       "      <td>Cat_genedr_rgs</td>\n",
       "      <td>0.7307</td>\n",
       "    </tr>\n",
       "  </tbody>\n",
       "</table>\n",
       "</div>"
      ],
      "text/plain": [
       "             model    Gini\n",
       "0  Cat_gender_base  0.7247\n",
       "0   Cat_genedr_rgs  0.7307"
      ]
     },
     "execution_count": 32,
     "metadata": {},
     "output_type": "execute_result"
    }
   ],
   "source": [
    "get_dataset('df_gender_metrics.parquet')#.set_index('model').style.highlight_max(axis=0, color='lightblue')"
   ]
  },
  {
   "cell_type": "code",
   "execution_count": 33,
   "id": "ff2fd3e3",
   "metadata": {},
   "outputs": [
    {
     "data": {
      "text/html": [
       "<div>\n",
       "<style scoped>\n",
       "    .dataframe tbody tr th:only-of-type {\n",
       "        vertical-align: middle;\n",
       "    }\n",
       "\n",
       "    .dataframe tbody tr th {\n",
       "        vertical-align: top;\n",
       "    }\n",
       "\n",
       "    .dataframe thead th {\n",
       "        text-align: right;\n",
       "    }\n",
       "</style>\n",
       "<table border=\"1\" class=\"dataframe\">\n",
       "  <thead>\n",
       "    <tr style=\"text-align: right;\">\n",
       "      <th></th>\n",
       "      <th>model</th>\n",
       "      <th>Gini_train</th>\n",
       "      <th>Gini_test</th>\n",
       "      <th>delta</th>\n",
       "    </tr>\n",
       "  </thead>\n",
       "  <tbody>\n",
       "    <tr>\n",
       "      <th>0</th>\n",
       "      <td>Cat_gender_base</td>\n",
       "      <td>0.7534</td>\n",
       "      <td>0.7247</td>\n",
       "      <td>4.0 %</td>\n",
       "    </tr>\n",
       "    <tr>\n",
       "      <th>0</th>\n",
       "      <td>Cat_genedr_rgs</td>\n",
       "      <td>0.8135</td>\n",
       "      <td>0.7307</td>\n",
       "      <td>11.3 %</td>\n",
       "    </tr>\n",
       "  </tbody>\n",
       "</table>\n",
       "</div>"
      ],
      "text/plain": [
       "             model  Gini_train  Gini_test   delta\n",
       "0  Cat_gender_base      0.7534     0.7247   4.0 %\n",
       "0   Cat_genedr_rgs      0.8135     0.7307  11.3 %"
      ]
     },
     "execution_count": 33,
     "metadata": {},
     "output_type": "execute_result"
    }
   ],
   "source": [
    "get_dataset('df_gender_overfitting.parquet')#.set_index('model').style.highlight_max(axis=0, color='lightblue')"
   ]
  },
  {
   "cell_type": "markdown",
   "id": "51a93827",
   "metadata": {},
   "source": [
    "## 5.2.2. Обучение на всей подготовленной выборке по полу."
   ]
  },
  {
   "cell_type": "markdown",
   "id": "da8b32b4",
   "metadata": {},
   "source": [
    "## 5.2.3. Предсказание пола по submit."
   ]
  },
  {
   "cell_type": "code",
   "execution_count": 34,
   "id": "8aa19584",
   "metadata": {},
   "outputs": [
    {
     "name": "stdout",
     "output_type": "stream",
     "text": [
      "split_train_test is_male done\n"
     ]
    }
   ],
   "source": [
    "X_train, X_test, y_train, y_test, eval_set, cat_features, X_train_, y_train_ = split_train_test(\n",
    "        \"prep_data_with_targets_is_male.parquet\",\n",
    "        \"is_male\")"
   ]
  },
  {
   "cell_type": "code",
   "execution_count": 35,
   "id": "599e513d",
   "metadata": {},
   "outputs": [],
   "source": [
    "dataset = get_dataset(\"prep_data_with_targets_is_male.parquet\")\n",
    "cat_features = dataset.select_dtypes('category').columns.tolist()\n",
    "X = dataset.drop(['user_id', 'is_male'], axis=1)\n",
    "y = dataset['is_male']\n",
    "del dataset"
   ]
  },
  {
   "cell_type": "code",
   "execution_count": 36,
   "id": "4da4411b",
   "metadata": {},
   "outputs": [],
   "source": [
    "# load moel\n",
    "cat_rgs_all = joblib.load(f'{LOCAL_DATA_PATH}/{PREP_DATA}/model_cat_rgs_gender.pkl')\n",
    "\n",
    "cat_rgs_all.fit(X, \n",
    "                y,\n",
    "                cat_features,\n",
    "                verbose = False);\n",
    "    \n",
    "y_pred = cat_rgs_all.predict_proba(X_test)[:,1] \n",
    "# print(f\"study_gender_3 {study_name} fit\") "
   ]
  },
  {
   "cell_type": "code",
   "execution_count": 40,
   "id": "bea19c4a",
   "metadata": {},
   "outputs": [],
   "source": [
    "# предсказание возраста по сабмитам\n",
    "df_submit = get_dataset('df_submit.parquet')\n",
    "    \n",
    "fin_submit = pd.read_csv(f'{LOCAL_DATA_PATH}/{PREP_DATA}/fin_submit.csv')\n",
    "fin_submit['is_male'] = cat_rgs_all.predict_proba(df_submit.drop(['user_id'], axis = 1))[:,1]\n",
    "    \n",
    "print(f\"study_gender_3 {study_name} pred submit done\")  "
   ]
  },
  {
   "cell_type": "code",
   "execution_count": 86,
   "id": "d0477c0b",
   "metadata": {},
   "outputs": [],
   "source": [
    "# датасеты с метриками моделей  \n",
    "# Добавление метрик\n",
    "df_metrics = get_dataset('df_gender_metrics.parquet')\n",
    "df_metrics = df_metrics.append(\n",
    "    get_metrics_gini(y_test=y_test,\n",
    "                     y_pred=y_pred,\n",
    "                     name=study_name))\n",
    "df_metrics.to_parquet(f\"{LOCAL_DATA_PATH}/{PREP_DATA}/df_gender_metrics.parquet\")\n",
    "    \n",
    "Переобучение\n",
    "df_overfitting = get_dataset('df_gender_overfitting.parquet')\n",
    "df_overfitting = pd.concat([df_overfitting, \n",
    "                            check_gini_overfitting(cat_rgs_all,\n",
    "                                                   X_train,\n",
    "                                                   y_train, \n",
    "                                                   X_test, \n",
    "                                                   y_test, \n",
    "                                                   roc_auc_score,\n",
    "                                                   study_name)\n",
    "                           ])\n",
    "\n",
    "df_overfitting.to_parquet(f\"{LOCAL_DATA_PATH}/{PREP_DATA}/df_gender_overfitting.parquet\")  "
   ]
  },
  {
   "cell_type": "code",
   "execution_count": 87,
   "id": "033f703b",
   "metadata": {},
   "outputs": [
    {
     "data": {
      "text/html": [
       "<div>\n",
       "<style scoped>\n",
       "    .dataframe tbody tr th:only-of-type {\n",
       "        vertical-align: middle;\n",
       "    }\n",
       "\n",
       "    .dataframe tbody tr th {\n",
       "        vertical-align: top;\n",
       "    }\n",
       "\n",
       "    .dataframe thead th {\n",
       "        text-align: right;\n",
       "    }\n",
       "</style>\n",
       "<table border=\"1\" class=\"dataframe\">\n",
       "  <thead>\n",
       "    <tr style=\"text-align: right;\">\n",
       "      <th></th>\n",
       "      <th>model</th>\n",
       "      <th>Gini</th>\n",
       "    </tr>\n",
       "  </thead>\n",
       "  <tbody>\n",
       "    <tr>\n",
       "      <th>0</th>\n",
       "      <td>cat_base_gender</td>\n",
       "      <td>0.7246</td>\n",
       "    </tr>\n",
       "    <tr>\n",
       "      <th>0</th>\n",
       "      <td>cat_rgs_gender</td>\n",
       "      <td>0.7310</td>\n",
       "    </tr>\n",
       "    <tr>\n",
       "      <th>0</th>\n",
       "      <td>cat_rgs_all_gender</td>\n",
       "      <td>0.7964</td>\n",
       "    </tr>\n",
       "  </tbody>\n",
       "</table>\n",
       "</div>"
      ],
      "text/plain": [
       "                model    Gini\n",
       "0     cat_base_gender  0.7246\n",
       "0      cat_rgs_gender  0.7310\n",
       "0  cat_rgs_all_gender  0.7964"
      ]
     },
     "execution_count": 87,
     "metadata": {},
     "output_type": "execute_result"
    }
   ],
   "source": [
    "df_metrics"
   ]
  },
  {
   "cell_type": "markdown",
   "id": "04476a09",
   "metadata": {},
   "source": [
    "---"
   ]
  },
  {
   "cell_type": "code",
   "execution_count": 41,
   "id": "65d339bb",
   "metadata": {},
   "outputs": [],
   "source": [
    "def study_gender_3(study_name: Text):\n",
    "    \"\"\"\n",
    "    \"\"\"\n",
    "\n",
    "    # get params\n",
    "#     with open(config_path) as file:\n",
    "#         config = yaml.load(file, Loader=yaml.FullLoader)\n",
    "#     preprocessing_config = config[\"preprocessing\"]\n",
    "#     train_config = config[\"train\"]\n",
    "    \n",
    "#     target=preprocessing_config[\"target_column\"]\n",
    "\n",
    "\n",
    "    X_train, X_test, y_train, y_test, eval_set, cat_features, X_train_, y_train_ = split_train_test(\n",
    "        \"prep_data_with_targets_is_male.parquet\",\n",
    "        \"is_male\")\n",
    "    \n",
    "    dataset = get_dataset(\"prep_data_with_targets_is_male.parquet\")\n",
    "    cat_features = dataset.select_dtypes('category').columns.tolist()\n",
    "    X = dataset.drop(['user_id', 'is_male'], axis=1)\n",
    "    y = dataset['is_male']\n",
    "    del dataset\n",
    "\n",
    "    # load moel\n",
    "    cat_rgs_all = joblib.load(f'{LOCAL_DATA_PATH}/{PREP_DATA}/model_cat_rgs_gender.pkl')\n",
    "\n",
    "    cat_rgs_all.fit(X, \n",
    "                    y,\n",
    "                    cat_features,\n",
    "                    verbose = False);\n",
    "    \n",
    "    y_pred = cat_rgs_all.predict_proba(X_test)[:,1] \n",
    "    \n",
    "    print(f\"study_gender_3 {study_name} fit\")    \n",
    "    \n",
    "    # save model\n",
    "    joblib.dump(cat_rgs_all, f'{LOCAL_DATA_PATH}/{PREP_DATA}/model_fin_gender.pkl')    \n",
    "    \n",
    "    \n",
    "    # предсказание возраста по сабмитам\n",
    "    df_submit = get_dataset('df_submit.parquet')\n",
    "    \n",
    "    fin_submit = pd.read_csv(f'{LOCAL_DATA_PATH}/{PREP_DATA}/fin_submit.csv')\n",
    "    fin_submit['is_male'] = cat_rgs_all.predict_proba(df_submit.drop(['user_id'], axis = 1))[:,1]\n",
    "\n",
    "    fin_submit.to_csv(f'{LOCAL_DATA_PATH}/{PREP_DATA}/fin_submit_age.csv', index = False)\n",
    "    \n",
    "    print(f\"study_gender_3 {study_name} pred submit done\")  \n",
    "    \n",
    "    \n",
    "    # датасеты с метриками моделей  \n",
    "    # Добавление метрик\n",
    "    df_metrics = get_dataset('df_gender_metrics.parquet')\n",
    "    df_metrics = pd.concat([df_metrics, get_metrics_gini(y_test=y_test,\n",
    "                                                         y_pred=y_pred,\n",
    "                                                         name=study_name)\n",
    "                           ])\n",
    "    df_metrics.to_parquet(f\"{LOCAL_DATA_PATH}/{PREP_DATA}/df_gender_metrics.parquet\")\n",
    "    \n",
    "    # Переобучение\n",
    "    df_overfitting = get_dataset('df_gender_overfitting.parquet')\n",
    "    df_overfitting = pd.concat([df_overfitting, check_gini_overfitting(cat_rgs_all,\n",
    "                                                                       X_train,\n",
    "                                                                       y_train, \n",
    "                                                                       X_test, \n",
    "                                                                       y_test, \n",
    "                                                                       roc_auc_score,\n",
    "                                                                       study_name)\n",
    "                               ])\n",
    "\n",
    "    df_overfitting.to_parquet(f\"{LOCAL_DATA_PATH}/{PREP_DATA}/df_gender_overfitting.parquet\")    \n",
    "    \n",
    "#     return df_metrics, df_overfitting, grid_search_result"
   ]
  },
  {
   "cell_type": "code",
   "execution_count": 42,
   "id": "945a790f",
   "metadata": {},
   "outputs": [
    {
     "name": "stdout",
     "output_type": "stream",
     "text": [
      "split_train_test is_male done\n",
      "study_gender_3 Cat_gener_rgs_all_data fit\n",
      "study_gender_3 Cat_gener_rgs_all_data pred submit done\n"
     ]
    }
   ],
   "source": [
    "study_gender_3(\"Cat_gener_rgs_all_data\")"
   ]
  },
  {
   "cell_type": "code",
   "execution_count": 36,
   "id": "9942d495",
   "metadata": {},
   "outputs": [
    {
     "data": {
      "text/html": [
       "<div>\n",
       "<style scoped>\n",
       "    .dataframe tbody tr th:only-of-type {\n",
       "        vertical-align: middle;\n",
       "    }\n",
       "\n",
       "    .dataframe tbody tr th {\n",
       "        vertical-align: top;\n",
       "    }\n",
       "\n",
       "    .dataframe thead th {\n",
       "        text-align: right;\n",
       "    }\n",
       "</style>\n",
       "<table border=\"1\" class=\"dataframe\">\n",
       "  <thead>\n",
       "    <tr style=\"text-align: right;\">\n",
       "      <th></th>\n",
       "      <th>model</th>\n",
       "      <th>Gini</th>\n",
       "    </tr>\n",
       "  </thead>\n",
       "  <tbody>\n",
       "    <tr>\n",
       "      <th>0</th>\n",
       "      <td>Cat_gender_base</td>\n",
       "      <td>0.7247</td>\n",
       "    </tr>\n",
       "    <tr>\n",
       "      <th>0</th>\n",
       "      <td>Cat_genedr_rgs</td>\n",
       "      <td>0.7307</td>\n",
       "    </tr>\n",
       "    <tr>\n",
       "      <th>0</th>\n",
       "      <td>Cat_gener_rgs_all_data</td>\n",
       "      <td>0.7959</td>\n",
       "    </tr>\n",
       "  </tbody>\n",
       "</table>\n",
       "</div>"
      ],
      "text/plain": [
       "                    model    Gini\n",
       "0         Cat_gender_base  0.7247\n",
       "0          Cat_genedr_rgs  0.7307\n",
       "0  Cat_gener_rgs_all_data  0.7959"
      ]
     },
     "execution_count": 36,
     "metadata": {},
     "output_type": "execute_result"
    }
   ],
   "source": [
    "get_dataset('df_gender_metrics.parquet')#.set_index('model').style.highlight_max(axis=0, color='lightblue')"
   ]
  },
  {
   "cell_type": "code",
   "execution_count": 37,
   "id": "6616e011",
   "metadata": {},
   "outputs": [
    {
     "data": {
      "text/html": [
       "<div>\n",
       "<style scoped>\n",
       "    .dataframe tbody tr th:only-of-type {\n",
       "        vertical-align: middle;\n",
       "    }\n",
       "\n",
       "    .dataframe tbody tr th {\n",
       "        vertical-align: top;\n",
       "    }\n",
       "\n",
       "    .dataframe thead th {\n",
       "        text-align: right;\n",
       "    }\n",
       "</style>\n",
       "<table border=\"1\" class=\"dataframe\">\n",
       "  <thead>\n",
       "    <tr style=\"text-align: right;\">\n",
       "      <th></th>\n",
       "      <th>model</th>\n",
       "      <th>Gini_train</th>\n",
       "      <th>Gini_test</th>\n",
       "      <th>delta</th>\n",
       "    </tr>\n",
       "  </thead>\n",
       "  <tbody>\n",
       "    <tr>\n",
       "      <th>0</th>\n",
       "      <td>Cat_gender_base</td>\n",
       "      <td>0.7534</td>\n",
       "      <td>0.7247</td>\n",
       "      <td>4.0 %</td>\n",
       "    </tr>\n",
       "    <tr>\n",
       "      <th>0</th>\n",
       "      <td>Cat_genedr_rgs</td>\n",
       "      <td>0.8135</td>\n",
       "      <td>0.7307</td>\n",
       "      <td>11.3 %</td>\n",
       "    </tr>\n",
       "    <tr>\n",
       "      <th>0</th>\n",
       "      <td>Cat_gener_rgs_all_data</td>\n",
       "      <td>0.7965</td>\n",
       "      <td>0.7959</td>\n",
       "      <td>0.1 %</td>\n",
       "    </tr>\n",
       "  </tbody>\n",
       "</table>\n",
       "</div>"
      ],
      "text/plain": [
       "                    model  Gini_train  Gini_test   delta\n",
       "0         Cat_gender_base      0.7534     0.7247   4.0 %\n",
       "0          Cat_genedr_rgs      0.8135     0.7307  11.3 %\n",
       "0  Cat_gener_rgs_all_data      0.7965     0.7959   0.1 %"
      ]
     },
     "execution_count": 37,
     "metadata": {},
     "output_type": "execute_result"
    }
   ],
   "source": [
    "get_dataset('df_gender_overfitting.parquet')#.set_index('model').style.highlight_max(axis=0, color='lightblue')"
   ]
  },
  {
   "cell_type": "markdown",
   "id": "359a2397",
   "metadata": {},
   "source": [
    "# Предсказание по  случайным данным"
   ]
  },
  {
   "cell_type": "code",
   "execution_count": 22,
   "id": "9eb134af",
   "metadata": {},
   "outputs": [],
   "source": [
    "def rand_os_name() -> list:\n",
    "    \"\"\"\n",
    "    ф-ция возвращает список со случайным\n",
    "    произодителем и операционной системой\n",
    "    \"\"\"\n",
    "    # загрузка данных\n",
    "    df = get_dataset('df_submit.parquet')\n",
    "    \n",
    "    # словаврь со всеми производителями и ос\n",
    "    my_dict = {\n",
    "        \"name\": df['cpe_manufacturer_name'].unique().to_list(),\n",
    "        \"type\": df['cpe_model_os_type'].unique().to_list()\n",
    "    }\n",
    "    \n",
    "    # выбор производителя\n",
    "    rnd = len(my_dict['name'])\n",
    "    rand_pred_name = my_dict['name'][randint(0, rnd-1)]\n",
    "    # rand_pred_name = my_dict['name'][1] # если нужен Apple и iOS\n",
    "\n",
    "    if rand_pred_name == 'Apple':\n",
    "        rand_pred_os = my_dict['type'][1]\n",
    "        return rand_pred_name, rand_pred_os\n",
    "    else:\n",
    "        rand_pred_os = my_dict['type'][0]\n",
    "        return rand_pred_name, rand_pred_os"
   ]
  },
  {
   "cell_type": "code",
   "execution_count": 23,
   "id": "56b31b1f",
   "metadata": {},
   "outputs": [],
   "source": [
    "def rand_data_pred() -> pd.DataFrame:\n",
    "    \"\"\"\n",
    "    ф-ция возвращает датасет с 1 строкой\n",
    "    заполненной случайным орбазом\n",
    "    \"\"\"\n",
    "    # загрузка данных\n",
    "    df = get_dataset('df_submit.parquet').drop(['user_id'], axis = 1)[:1] # \n",
    "    \n",
    "    # Заполнение всех признаков случайным числом\n",
    "    for col in df:\n",
    "        df[col] = randint(0, 1)\n",
    "\n",
    "    # Заполнение произв и ос случайными значениями\n",
    "    name, os_type = rand_os_name()\n",
    "    df[['cpe_manufacturer_name']] = name\n",
    "    df[['cpe_model_os_type']] = os_type\n",
    "    \n",
    "    return df"
   ]
  },
  {
   "cell_type": "code",
   "execution_count": 25,
   "id": "933ffa8f",
   "metadata": {},
   "outputs": [],
   "source": [
    "cat_rgs_age = joblib.load(f'{LOCAL_DATA_PATH}/{PREP_DATA}/model_cat_grid_age.pkl')\n",
    "\n",
    "cat_rgs_gendr = joblib.load(f'{LOCAL_DATA_PATH}/{PREP_DATA}/model_fin_gender.pkl')"
   ]
  },
  {
   "cell_type": "code",
   "execution_count": 26,
   "id": "eeb27e3f",
   "metadata": {},
   "outputs": [
    {
     "data": {
      "text/html": [
       "<div>\n",
       "<style scoped>\n",
       "    .dataframe tbody tr th:only-of-type {\n",
       "        vertical-align: middle;\n",
       "    }\n",
       "\n",
       "    .dataframe tbody tr th {\n",
       "        vertical-align: top;\n",
       "    }\n",
       "\n",
       "    .dataframe thead th {\n",
       "        text-align: right;\n",
       "    }\n",
       "</style>\n",
       "<table border=\"1\" class=\"dataframe\">\n",
       "  <thead>\n",
       "    <tr style=\"text-align: right;\">\n",
       "      <th></th>\n",
       "      <th>cpe_manufacturer_name</th>\n",
       "      <th>cpe_model_os_type</th>\n",
       "      <th>is_male</th>\n",
       "      <th>age</th>\n",
       "    </tr>\n",
       "  </thead>\n",
       "  <tbody>\n",
       "    <tr>\n",
       "      <th>0</th>\n",
       "      <td>Yandex LLC</td>\n",
       "      <td>Android</td>\n",
       "      <td>0.998476</td>\n",
       "      <td>1</td>\n",
       "    </tr>\n",
       "  </tbody>\n",
       "</table>\n",
       "</div>"
      ],
      "text/plain": [
       "  cpe_manufacturer_name cpe_model_os_type   is_male  age\n",
       "0            Yandex LLC           Android  0.998476    1"
      ]
     },
     "execution_count": 26,
     "metadata": {},
     "output_type": "execute_result"
    }
   ],
   "source": [
    "df = rand_data_pred()\n",
    "df['is_male'] = cat_rgs_gendr.predict_proba(df)[:,1]#.drop(['user_id'], axis = 1))\n",
    "df['age'] = cat_rgs_age.predict(df)#.drop(['user_id'], axis = 1))\n",
    "df[['cpe_manufacturer_name','cpe_model_os_type','is_male','age']]"
   ]
  },
  {
   "cell_type": "markdown",
   "id": "e78cbb54",
   "metadata": {},
   "source": [
    "## Примеры предсказаний по случайным данным"
   ]
  },
  {
   "cell_type": "code",
   "execution_count": 42,
   "id": "d79af0c6",
   "metadata": {},
   "outputs": [
    {
     "data": {
      "text/html": [
       "<div>\n",
       "<style scoped>\n",
       "    .dataframe tbody tr th:only-of-type {\n",
       "        vertical-align: middle;\n",
       "    }\n",
       "\n",
       "    .dataframe tbody tr th {\n",
       "        vertical-align: top;\n",
       "    }\n",
       "\n",
       "    .dataframe thead th {\n",
       "        text-align: right;\n",
       "    }\n",
       "</style>\n",
       "<table border=\"1\" class=\"dataframe\">\n",
       "  <thead>\n",
       "    <tr style=\"text-align: right;\">\n",
       "      <th></th>\n",
       "      <th>cpe_manufacturer_name</th>\n",
       "      <th>cpe_model_os_type</th>\n",
       "      <th>is_male</th>\n",
       "      <th>age</th>\n",
       "    </tr>\n",
       "  </thead>\n",
       "  <tbody>\n",
       "    <tr>\n",
       "      <th>0</th>\n",
       "      <td>Samsung</td>\n",
       "      <td>Android</td>\n",
       "      <td>0.363823</td>\n",
       "      <td>0</td>\n",
       "    </tr>\n",
       "  </tbody>\n",
       "</table>\n",
       "</div>"
      ],
      "text/plain": [
       "  cpe_manufacturer_name cpe_model_os_type   is_male  age\n",
       "0               Samsung           Android  0.363823    0"
      ]
     },
     "execution_count": 42,
     "metadata": {},
     "output_type": "execute_result"
    }
   ],
   "source": [
    "df[['cpe_manufacturer_name','cpe_model_os_type','is_male','age']]"
   ]
  },
  {
   "cell_type": "code",
   "execution_count": 47,
   "id": "ee99f209",
   "metadata": {},
   "outputs": [
    {
     "data": {
      "text/html": [
       "<div>\n",
       "<style scoped>\n",
       "    .dataframe tbody tr th:only-of-type {\n",
       "        vertical-align: middle;\n",
       "    }\n",
       "\n",
       "    .dataframe tbody tr th {\n",
       "        vertical-align: top;\n",
       "    }\n",
       "\n",
       "    .dataframe thead th {\n",
       "        text-align: right;\n",
       "    }\n",
       "</style>\n",
       "<table border=\"1\" class=\"dataframe\">\n",
       "  <thead>\n",
       "    <tr style=\"text-align: right;\">\n",
       "      <th></th>\n",
       "      <th>cpe_manufacturer_name</th>\n",
       "      <th>cpe_model_os_type</th>\n",
       "      <th>is_male</th>\n",
       "      <th>age</th>\n",
       "    </tr>\n",
       "  </thead>\n",
       "  <tbody>\n",
       "    <tr>\n",
       "      <th>0</th>\n",
       "      <td>HTC</td>\n",
       "      <td>Android</td>\n",
       "      <td>0.176554</td>\n",
       "      <td>2</td>\n",
       "    </tr>\n",
       "  </tbody>\n",
       "</table>\n",
       "</div>"
      ],
      "text/plain": [
       "  cpe_manufacturer_name cpe_model_os_type   is_male  age\n",
       "0                   HTC           Android  0.176554    2"
      ]
     },
     "execution_count": 47,
     "metadata": {},
     "output_type": "execute_result"
    }
   ],
   "source": [
    "df[['cpe_manufacturer_name','cpe_model_os_type','is_male','age']]"
   ]
  },
  {
   "cell_type": "code",
   "execution_count": 31,
   "id": "3c4465d1",
   "metadata": {},
   "outputs": [
    {
     "data": {
      "text/html": [
       "<div>\n",
       "<style scoped>\n",
       "    .dataframe tbody tr th:only-of-type {\n",
       "        vertical-align: middle;\n",
       "    }\n",
       "\n",
       "    .dataframe tbody tr th {\n",
       "        vertical-align: top;\n",
       "    }\n",
       "\n",
       "    .dataframe thead th {\n",
       "        text-align: right;\n",
       "    }\n",
       "</style>\n",
       "<table border=\"1\" class=\"dataframe\">\n",
       "  <thead>\n",
       "    <tr style=\"text-align: right;\">\n",
       "      <th></th>\n",
       "      <th>cpe_manufacturer_name</th>\n",
       "      <th>cpe_model_os_type</th>\n",
       "      <th>is_male</th>\n",
       "      <th>age</th>\n",
       "    </tr>\n",
       "  </thead>\n",
       "  <tbody>\n",
       "    <tr>\n",
       "      <th>0</th>\n",
       "      <td>LeEco</td>\n",
       "      <td>Android</td>\n",
       "      <td>0.990112</td>\n",
       "      <td>2</td>\n",
       "    </tr>\n",
       "  </tbody>\n",
       "</table>\n",
       "</div>"
      ],
      "text/plain": [
       "  cpe_manufacturer_name cpe_model_os_type   is_male  age\n",
       "0                 LeEco           Android  0.990112    2"
      ]
     },
     "execution_count": 31,
     "metadata": {},
     "output_type": "execute_result"
    }
   ],
   "source": [
    "df[['cpe_manufacturer_name','cpe_model_os_type','is_male','age']]"
   ]
  },
  {
   "cell_type": "markdown",
   "id": "c15daf21",
   "metadata": {},
   "source": [
    "# 6. Score.\n",
    "\n",
    "Метрика соревнования — ROC-AUC – для определения пола, f1 weighted – для определения возраста. \n",
    "\n",
    "Все решения рассчитываются по формуле - 2 * f1_weighted(по 6 возрастным бакетам) + gini по полу."
   ]
  },
  {
   "cell_type": "code",
   "execution_count": 45,
   "id": "e3fb1118",
   "metadata": {},
   "outputs": [
    {
     "data": {
      "text/html": [
       "<div>\n",
       "<style scoped>\n",
       "    .dataframe tbody tr th:only-of-type {\n",
       "        vertical-align: middle;\n",
       "    }\n",
       "\n",
       "    .dataframe tbody tr th {\n",
       "        vertical-align: top;\n",
       "    }\n",
       "\n",
       "    .dataframe thead th {\n",
       "        text-align: right;\n",
       "    }\n",
       "</style>\n",
       "<table border=\"1\" class=\"dataframe\">\n",
       "  <thead>\n",
       "    <tr style=\"text-align: right;\">\n",
       "      <th></th>\n",
       "      <th>user_id</th>\n",
       "      <th>age</th>\n",
       "      <th>is_male</th>\n",
       "    </tr>\n",
       "  </thead>\n",
       "  <tbody>\n",
       "    <tr>\n",
       "      <th>0</th>\n",
       "      <td>27</td>\n",
       "      <td>1</td>\n",
       "      <td>0.235905</td>\n",
       "    </tr>\n",
       "    <tr>\n",
       "      <th>1</th>\n",
       "      <td>83</td>\n",
       "      <td>0</td>\n",
       "      <td>0.872758</td>\n",
       "    </tr>\n",
       "    <tr>\n",
       "      <th>2</th>\n",
       "      <td>100</td>\n",
       "      <td>1</td>\n",
       "      <td>0.803667</td>\n",
       "    </tr>\n",
       "    <tr>\n",
       "      <th>3</th>\n",
       "      <td>115</td>\n",
       "      <td>0</td>\n",
       "      <td>0.380761</td>\n",
       "    </tr>\n",
       "    <tr>\n",
       "      <th>4</th>\n",
       "      <td>171</td>\n",
       "      <td>1</td>\n",
       "      <td>0.824334</td>\n",
       "    </tr>\n",
       "    <tr>\n",
       "      <th>...</th>\n",
       "      <td>...</td>\n",
       "      <td>...</td>\n",
       "      <td>...</td>\n",
       "    </tr>\n",
       "    <tr>\n",
       "      <th>144719</th>\n",
       "      <td>415180</td>\n",
       "      <td>2</td>\n",
       "      <td>0.467285</td>\n",
       "    </tr>\n",
       "    <tr>\n",
       "      <th>144720</th>\n",
       "      <td>415195</td>\n",
       "      <td>1</td>\n",
       "      <td>0.644674</td>\n",
       "    </tr>\n",
       "    <tr>\n",
       "      <th>144721</th>\n",
       "      <td>415248</td>\n",
       "      <td>1</td>\n",
       "      <td>0.530685</td>\n",
       "    </tr>\n",
       "    <tr>\n",
       "      <th>144722</th>\n",
       "      <td>415267</td>\n",
       "      <td>2</td>\n",
       "      <td>0.583750</td>\n",
       "    </tr>\n",
       "    <tr>\n",
       "      <th>144723</th>\n",
       "      <td>415310</td>\n",
       "      <td>2</td>\n",
       "      <td>0.479719</td>\n",
       "    </tr>\n",
       "  </tbody>\n",
       "</table>\n",
       "<p>144724 rows × 3 columns</p>\n",
       "</div>"
      ],
      "text/plain": [
       "        user_id  age   is_male\n",
       "0            27    1  0.235905\n",
       "1            83    0  0.872758\n",
       "2           100    1  0.803667\n",
       "3           115    0  0.380761\n",
       "4           171    1  0.824334\n",
       "...         ...  ...       ...\n",
       "144719   415180    2  0.467285\n",
       "144720   415195    1  0.644674\n",
       "144721   415248    1  0.530685\n",
       "144722   415267    2  0.583750\n",
       "144723   415310    2  0.479719\n",
       "\n",
       "[144724 rows x 3 columns]"
      ]
     },
     "execution_count": 45,
     "metadata": {},
     "output_type": "execute_result"
    }
   ],
   "source": [
    "pd.read_csv(f'{LOCAL_DATA_PATH}/{PREP_DATA}/fin_submit_age.csv')"
   ]
  },
  {
   "cell_type": "code",
   "execution_count": 46,
   "id": "66d40601",
   "metadata": {},
   "outputs": [
    {
     "data": {
      "text/html": [
       "<style type=\"text/css\">\n",
       "#T_f8cf6_row2_col0 {\n",
       "  background-color: lightblue;\n",
       "}\n",
       "</style>\n",
       "<table id=\"T_f8cf6_\">\n",
       "  <thead>\n",
       "    <tr>\n",
       "      <th class=\"blank level0\" >&nbsp;</th>\n",
       "      <th class=\"col_heading level0 col0\" >F1_weighted</th>\n",
       "    </tr>\n",
       "    <tr>\n",
       "      <th class=\"index_name level0\" >model</th>\n",
       "      <th class=\"blank col0\" >&nbsp;</th>\n",
       "    </tr>\n",
       "  </thead>\n",
       "  <tbody>\n",
       "    <tr>\n",
       "      <th id=\"T_f8cf6_level0_row0\" class=\"row_heading level0 row0\" >Cat_age_base</th>\n",
       "      <td id=\"T_f8cf6_row0_col0\" class=\"data row0 col0\" >0.451353</td>\n",
       "    </tr>\n",
       "    <tr>\n",
       "      <th id=\"T_f8cf6_level0_row1\" class=\"row_heading level0 row1\" >Cat_age_rgs</th>\n",
       "      <td id=\"T_f8cf6_row1_col0\" class=\"data row1 col0\" >0.454030</td>\n",
       "    </tr>\n",
       "    <tr>\n",
       "      <th id=\"T_f8cf6_level0_row2\" class=\"row_heading level0 row2\" >Cat_age_rgs_all_data</th>\n",
       "      <td id=\"T_f8cf6_row2_col0\" class=\"data row2 col0\" >0.556110</td>\n",
       "    </tr>\n",
       "  </tbody>\n",
       "</table>\n"
      ],
      "text/plain": [
       "<pandas.io.formats.style.Styler at 0x27483f949d0>"
      ]
     },
     "execution_count": 46,
     "metadata": {},
     "output_type": "execute_result"
    }
   ],
   "source": [
    "df1 = get_dataset('df_age_metrics.parquet').reset_index(drop = True)\n",
    "df1.set_index('model').style.highlight_max(axis=0, color='lightblue')"
   ]
  },
  {
   "cell_type": "code",
   "execution_count": 47,
   "id": "dab7989f",
   "metadata": {},
   "outputs": [
    {
     "data": {
      "text/html": [
       "<style type=\"text/css\">\n",
       "#T_7b1ad_row2_col0 {\n",
       "  background-color: lightblue;\n",
       "}\n",
       "</style>\n",
       "<table id=\"T_7b1ad_\">\n",
       "  <thead>\n",
       "    <tr>\n",
       "      <th class=\"blank level0\" >&nbsp;</th>\n",
       "      <th class=\"col_heading level0 col0\" >Gini</th>\n",
       "    </tr>\n",
       "    <tr>\n",
       "      <th class=\"index_name level0\" >model</th>\n",
       "      <th class=\"blank col0\" >&nbsp;</th>\n",
       "    </tr>\n",
       "  </thead>\n",
       "  <tbody>\n",
       "    <tr>\n",
       "      <th id=\"T_7b1ad_level0_row0\" class=\"row_heading level0 row0\" >Cat_gender_base</th>\n",
       "      <td id=\"T_7b1ad_row0_col0\" class=\"data row0 col0\" >0.724700</td>\n",
       "    </tr>\n",
       "    <tr>\n",
       "      <th id=\"T_7b1ad_level0_row1\" class=\"row_heading level0 row1\" >Cat_genedr_rgs</th>\n",
       "      <td id=\"T_7b1ad_row1_col0\" class=\"data row1 col0\" >0.730700</td>\n",
       "    </tr>\n",
       "    <tr>\n",
       "      <th id=\"T_7b1ad_level0_row2\" class=\"row_heading level0 row2\" >Cat_gener_rgs_all_data</th>\n",
       "      <td id=\"T_7b1ad_row2_col0\" class=\"data row2 col0\" >0.795900</td>\n",
       "    </tr>\n",
       "  </tbody>\n",
       "</table>\n"
      ],
      "text/plain": [
       "<pandas.io.formats.style.Styler at 0x27483f94be0>"
      ]
     },
     "execution_count": 47,
     "metadata": {},
     "output_type": "execute_result"
    }
   ],
   "source": [
    "df2 = get_dataset('df_gender_metrics.parquet').reset_index(drop = True)\n",
    "df2.set_index('model').style.highlight_max(axis=0, color='lightblue')"
   ]
  },
  {
   "cell_type": "markdown",
   "id": "517643df",
   "metadata": {},
   "source": [
    "baseline"
   ]
  },
  {
   "cell_type": "code",
   "execution_count": 48,
   "id": "2f246eca",
   "metadata": {},
   "outputs": [
    {
     "data": {
      "text/plain": [
       "1.6274055435251666"
      ]
     },
     "execution_count": 48,
     "metadata": {},
     "output_type": "execute_result"
    }
   ],
   "source": [
    "2 * df1['F1_weighted'][0] + df2['Gini'][0]"
   ]
  },
  {
   "cell_type": "markdown",
   "id": "7860dfe2",
   "metadata": {},
   "source": [
    "random grid search best params"
   ]
  },
  {
   "cell_type": "code",
   "execution_count": 49,
   "id": "8036ee1e",
   "metadata": {},
   "outputs": [
    {
     "data": {
      "text/plain": [
       "1.638760255923968"
      ]
     },
     "execution_count": 49,
     "metadata": {},
     "output_type": "execute_result"
    }
   ],
   "source": [
    "2 * df1['F1_weighted'][1] + df2['Gini'][1]"
   ]
  },
  {
   "cell_type": "markdown",
   "id": "4094af18",
   "metadata": {},
   "source": [
    "вся выборка"
   ]
  },
  {
   "cell_type": "code",
   "execution_count": 50,
   "id": "e35e1f37",
   "metadata": {},
   "outputs": [
    {
     "data": {
      "text/plain": [
       "1.908119652856524"
      ]
     },
     "execution_count": 50,
     "metadata": {},
     "output_type": "execute_result"
    }
   ],
   "source": [
    "2 * df1['F1_weighted'][2] + df2['Gini'][2]"
   ]
  },
  {
   "cell_type": "markdown",
   "id": "3c9952ea",
   "metadata": {},
   "source": [
    "на лучших параметрах по rgs и всей выборке модель предсказания возраста переобучается (delta 10% - 20%)"
   ]
  },
  {
   "cell_type": "code",
   "execution_count": null,
   "id": "6143a1b3",
   "metadata": {},
   "outputs": [],
   "source": []
  }
 ],
 "metadata": {
  "kernelspec": {
   "display_name": "Python 3 (ipykernel)",
   "language": "python",
   "name": "python3"
  },
  "language_info": {
   "codemirror_mode": {
    "name": "ipython",
    "version": 3
   },
   "file_extension": ".py",
   "mimetype": "text/x-python",
   "name": "python",
   "nbconvert_exporter": "python",
   "pygments_lexer": "ipython3",
   "version": "3.11.4"
  }
 },
 "nbformat": 4,
 "nbformat_minor": 5
}
