{
 "cells": [
  {
   "cell_type": "markdown",
   "id": "b539f88a",
   "metadata": {},
   "source": [
    "## Imports"
   ]
  },
  {
   "cell_type": "code",
   "execution_count": 1,
   "id": "d1aeaaba",
   "metadata": {},
   "outputs": [],
   "source": [
    "import os\n",
    "\n",
    "import pandas as pd\n",
    "import numpy as np\n",
    "import scipy as stats\n",
    "import pyarrow as pr\n",
    "import joblib\n",
    "import time\n",
    "import bisect\n",
    "import gc\n",
    "import sklearn.metrics as mtrcs\n",
    "from scipy import stats\n",
    "\n",
    "import calendar\n",
    "\n",
    "from tqdm import tqdm\n",
    "from datetime import datetime\n",
    "\n",
    "from sklearn.model_selection import train_test_split\n",
    "\n",
    "import matplotlib.pyplot as plt\n",
    "import seaborn as sns\n",
    "\n",
    "from catboost import CatBoostRegressor, CatBoostClassifier\n",
    "\n",
    "from sklearn.metrics import f1_score, accuracy_score, \\\n",
    "roc_auc_score, classification_report, r2_score, precision_score, recall_score, \\\n",
    "log_loss\n",
    "\n",
    "import warnings\n",
    "warnings.filterwarnings(\"ignore\");\n",
    "\n",
    "RAND = 10\n",
    "N_FOLDS = 5"
   ]
  },
  {
   "cell_type": "markdown",
   "id": "ac7eb803",
   "metadata": {},
   "source": [
    "# Задача соревнования\n",
    "Определение **пола** и **возраста** владельца HTTP cookie по истории активности пользователя в интернете на основе синтетических данных."
   ]
  },
  {
   "cell_type": "markdown",
   "id": "f178e917",
   "metadata": {},
   "source": [
    "## Проверка решений\n",
    "* Решения проверяются автоматически. Запуск происходит на полностью закрытых тестовых данных, которые не передаются участникам.\n",
    "* На лидерборде рейтинг участников будет рассчитываться по подвыборке ответов из тестовых данных.\n",
    "* Кол-во сабмитов в день: 3\n",
    "* Метрика соревнования — **ROC-AUC** – для определения **пола**, **f1 weighted** – для определения **возраста**. **Все решения рассчитываются по формуле -  2 * f1_weighted(**по 6 возрастным бакетам**) + gini по полу.**\n",
    "* Возрастные бакеты( Класс 1 —19-25, Класс 2 —26-35, Класс 3 —36-45, Класс 4 —46-55, Класс 5 —56-65, Класс 6— 66+)"
   ]
  },
  {
   "cell_type": "markdown",
   "id": "b29104e7",
   "metadata": {},
   "source": [
    "# Описание данных"
   ]
  },
  {
   "cell_type": "markdown",
   "id": "b7673ffe",
   "metadata": {},
   "source": [
    "Материалы (1 415 MB)\n",
    "\n",
    "public_train.pqt\n",
    "3 MB\t\n",
    "\n",
    "competition_data_final_pqt.zip\n",
    "1 405 MB\t\n",
    "\n",
    "Context_Baseline_Public.ipynb\n",
    "1 MB\t\n",
    "\n",
    "submit_2.pqt\n",
    "в этом файле id, по которым нужно предсказать пол и возраст\n",
    "2 MB\t\n",
    "\n",
    "sample_submission.csv\n",
    "По возрасту классы: Класс 1 —19-25, Класс 2 —26-35, Класс 3 —36-45, Класс 4 —46-55, Класс 5 —56-65, Класс 6— 66+ \n",
    "4 MB"
   ]
  },
  {
   "cell_type": "markdown",
   "id": "9b09fc20",
   "metadata": {},
   "source": [
    "**Описания полей**\n",
    "\n",
    "- Описание колонок файла с данными:\n",
    "\n",
    "- 'region_name' – Регион\n",
    "\n",
    "- 'city_name' – Населенный пункт\n",
    "\n",
    "- 'cpe_manufacturer_name' – Производитель устройства\n",
    "\n",
    "- 'cpe_model_name' – Модель устройства\n",
    "\n",
    "- 'url_host' – Домен, с которого пришел рекламный запрос\n",
    "\n",
    "- 'cpe_type_cd' – Тип устройства (смартфон или что-то другое)\n",
    "\n",
    "- 'Cpe_model_os_type' – Операционка на устройстве\n",
    "\n",
    "- 'price' – Оценка цены устройства\n",
    "\n",
    "- 'date' – Дата\n",
    "\n",
    "- 'part_of_day' – Время дня (утро, вечер, итд)\n",
    "\n",
    "- 'request_cnt' – Число запросов одного пользователя за время дня (поле part_of_day)\n",
    "\n",
    "- 'user_id' – ID пользователя\n",
    "\n",
    "**Описание колонок файла с таргетами:**\n",
    "\n",
    "- 'age' – Возраст пользователя\n",
    "\n",
    "- 'Is_male' – Признак пользователя : мужчина (1-Да, 0-Нет)\n",
    "\n",
    "- 'user_id' – ID пользователя"
   ]
  },
  {
   "cell_type": "markdown",
   "id": "e88a841c",
   "metadata": {},
   "source": [
    "---\n",
    "# Расположение папок с данными"
   ]
  },
  {
   "cell_type": "code",
   "execution_count": 2,
   "id": "fa0a2265",
   "metadata": {},
   "outputs": [],
   "source": [
    "LOCAL_DATA_PATH = \"../data\"\n",
    "DATA_FILE = 'competition_data_final_pqt'\n",
    "\n",
    "# целевые переменные\n",
    "TARGET_FILE_AGE = 'targets_age_prep.parquet'\n",
    "TARGET_FILE_MALE = 'targets_is_male_prep.parquet'\n",
    "\n",
    "# id, по которым нужно предсказать пол и возраст\n",
    "SUBMIT_FILE = 'submit_2.pqt'\n",
    "\n",
    "# папка, куда будут сохраняться предобработанные данные\n",
    "PREP_DATA = 'preprocessed_data'\n",
    "\n",
    "LOCAL_DATA_PATH_mts = \"../data/ml_cup_data\""
   ]
  },
  {
   "cell_type": "markdown",
   "id": "e95063d8",
   "metadata": {},
   "source": [
    "---\n",
    "## 4. EDA parts."
   ]
  },
  {
   "cell_type": "markdown",
   "id": "18e2312f",
   "metadata": {},
   "source": [
    "Функции"
   ]
  },
  {
   "cell_type": "code",
   "execution_count": 3,
   "id": "c6c052d6",
   "metadata": {},
   "outputs": [],
   "source": [
    "def plot_text(ax: plt.Axes):\n",
    "    \"\"\"\n",
    "    Вывод процентов на графике barplot\n",
    "    \"\"\"\n",
    "    for p in ax.patches:\n",
    "        percentage = '{:.1f}%'.format(p.get_height())\n",
    "        ax.annotate(\n",
    "            percentage,  # текст\n",
    "            # координата xy\n",
    "            (p.get_x() + p.get_width() / 2., p.get_height()),\n",
    "            # центрироваие\n",
    "            ha='center',\n",
    "            va='center',\n",
    "            xytext=(0, 10),\n",
    "            textcoords='offset points',\n",
    "            fontsize=14)"
   ]
  },
  {
   "cell_type": "markdown",
   "id": "906062f7",
   "metadata": {},
   "source": [
    "### 4.1. Исследование целевых переменных."
   ]
  },
  {
   "cell_type": "markdown",
   "id": "b92ef9c3",
   "metadata": {},
   "source": [
    "### 4.1.1. Целевой признак по возрасту."
   ]
  },
  {
   "cell_type": "code",
   "execution_count": 4,
   "id": "de82c4de",
   "metadata": {},
   "outputs": [
    {
     "data": {
      "text/html": [
       "<div>\n",
       "<style scoped>\n",
       "    .dataframe tbody tr th:only-of-type {\n",
       "        vertical-align: middle;\n",
       "    }\n",
       "\n",
       "    .dataframe tbody tr th {\n",
       "        vertical-align: top;\n",
       "    }\n",
       "\n",
       "    .dataframe thead th {\n",
       "        text-align: right;\n",
       "    }\n",
       "</style>\n",
       "<table border=\"1\" class=\"dataframe\">\n",
       "  <thead>\n",
       "    <tr style=\"text-align: right;\">\n",
       "      <th></th>\n",
       "      <th>user_id</th>\n",
       "      <th>age_target</th>\n",
       "    </tr>\n",
       "  </thead>\n",
       "  <tbody>\n",
       "    <tr>\n",
       "      <th>268917</th>\n",
       "      <td>225374</td>\n",
       "      <td>3</td>\n",
       "    </tr>\n",
       "    <tr>\n",
       "      <th>268918</th>\n",
       "      <td>25776</td>\n",
       "      <td>0</td>\n",
       "    </tr>\n",
       "    <tr>\n",
       "      <th>268919</th>\n",
       "      <td>148131</td>\n",
       "      <td>1</td>\n",
       "    </tr>\n",
       "    <tr>\n",
       "      <th>268920</th>\n",
       "      <td>205570</td>\n",
       "      <td>1</td>\n",
       "    </tr>\n",
       "    <tr>\n",
       "      <th>268921</th>\n",
       "      <td>103148</td>\n",
       "      <td>5</td>\n",
       "    </tr>\n",
       "  </tbody>\n",
       "</table>\n",
       "</div>"
      ],
      "text/plain": [
       "        user_id  age_target\n",
       "268917   225374           3\n",
       "268918    25776           0\n",
       "268919   148131           1\n",
       "268920   205570           1\n",
       "268921   103148           5"
      ]
     },
     "execution_count": 4,
     "metadata": {},
     "output_type": "execute_result"
    }
   ],
   "source": [
    "targets = pd.read_parquet(f'{LOCAL_DATA_PATH}/{PREP_DATA}/{TARGET_FILE_AGE}')\n",
    "targets.tail()"
   ]
  },
  {
   "cell_type": "code",
   "execution_count": null,
   "id": "4e74aa11",
   "metadata": {},
   "outputs": [],
   "source": [
    "targets.info()"
   ]
  },
  {
   "cell_type": "code",
   "execution_count": 6,
   "id": "2594541d",
   "metadata": {},
   "outputs": [
    {
     "data": {
      "text/html": [
       "<div>\n",
       "<style scoped>\n",
       "    .dataframe tbody tr th:only-of-type {\n",
       "        vertical-align: middle;\n",
       "    }\n",
       "\n",
       "    .dataframe tbody tr th {\n",
       "        vertical-align: top;\n",
       "    }\n",
       "\n",
       "    .dataframe thead th {\n",
       "        text-align: right;\n",
       "    }\n",
       "</style>\n",
       "<table border=\"1\" class=\"dataframe\">\n",
       "  <thead>\n",
       "    <tr style=\"text-align: right;\">\n",
       "      <th></th>\n",
       "      <th>age_target</th>\n",
       "    </tr>\n",
       "  </thead>\n",
       "  <tbody>\n",
       "    <tr>\n",
       "      <th>count</th>\n",
       "      <td>268922.000000</td>\n",
       "    </tr>\n",
       "    <tr>\n",
       "      <th>mean</th>\n",
       "      <td>1.827307</td>\n",
       "    </tr>\n",
       "    <tr>\n",
       "      <th>std</th>\n",
       "      <td>1.213645</td>\n",
       "    </tr>\n",
       "    <tr>\n",
       "      <th>min</th>\n",
       "      <td>0.000000</td>\n",
       "    </tr>\n",
       "    <tr>\n",
       "      <th>25%</th>\n",
       "      <td>1.000000</td>\n",
       "    </tr>\n",
       "    <tr>\n",
       "      <th>50%</th>\n",
       "      <td>2.000000</td>\n",
       "    </tr>\n",
       "    <tr>\n",
       "      <th>75%</th>\n",
       "      <td>3.000000</td>\n",
       "    </tr>\n",
       "    <tr>\n",
       "      <th>max</th>\n",
       "      <td>5.000000</td>\n",
       "    </tr>\n",
       "  </tbody>\n",
       "</table>\n",
       "</div>"
      ],
      "text/plain": [
       "          age_target\n",
       "count  268922.000000\n",
       "mean        1.827307\n",
       "std         1.213645\n",
       "min         0.000000\n",
       "25%         1.000000\n",
       "50%         2.000000\n",
       "75%         3.000000\n",
       "max         5.000000"
      ]
     },
     "execution_count": 6,
     "metadata": {},
     "output_type": "execute_result"
    }
   ],
   "source": [
    "targets[['age_target']].describe()"
   ]
  },
  {
   "cell_type": "markdown",
   "id": "82e00c2f",
   "metadata": {},
   "source": [
    "Посмотрим сколько в процентах в каждой возрастной группе."
   ]
  },
  {
   "cell_type": "code",
   "execution_count": 7,
   "id": "63bf3675",
   "metadata": {},
   "outputs": [
    {
     "data": {
      "text/plain": [
       "5     2.0\n",
       "4     8.8\n",
       "0    12.1\n",
       "3    15.8\n",
       "2    28.8\n",
       "1    32.5\n",
       "Name: age_target, dtype: float64"
      ]
     },
     "execution_count": 7,
     "metadata": {},
     "output_type": "execute_result"
    }
   ],
   "source": [
    "# segment_values = targets.age_target.value_counts(ascending=True)\n",
    "# round(segment_values / targets.shape[0], 3) * 100"
   ]
  },
  {
   "cell_type": "code",
   "execution_count": 4,
   "id": "d5054076",
   "metadata": {},
   "outputs": [],
   "source": [
    "def cat_ages_bars():\n",
    "    \"\"\"\n",
    "    4.1.1. Целевой признак по возрасту.\n",
    "    \"\"\"\n",
    "\n",
    "    targets = pd.read_parquet(f'{LOCAL_DATA_PATH}/{PREP_DATA}/{TARGET_FILE_AGE}')\n",
    "\n",
    "    # нормирование\n",
    "    norm_target = (targets\n",
    "                       .age_target\n",
    "                       .value_counts(normalize=True)\n",
    "                       .mul(100)\n",
    "                       .rename('percent')\n",
    "                       .reset_index())\n",
    "\n",
    "    plt.figure(figsize=(15, 7))\n",
    "    ax = sns.barplot(x='index', y='percent', data=norm_target)\n",
    "\n",
    "    plot_text(ax)\n",
    "\n",
    "    plt.title('Барплот категоризированного возраста', fontsize=20)\n",
    "    plt.xlabel('Классы возраста \\n1 (19-25), 2 (26-35), 3 (36-45), 4 (46-55), 5 (56-65), 6(66+)', fontsize=14)\n",
    "    plt.ylabel('Проценты', fontsize=14)\n",
    "\n",
    "    plt.xticks(fontsize=14)\n",
    "    plt.yticks(fontsize=14)\n",
    "    \n",
    "    del targets\n",
    "    gc.collect();"
   ]
  },
  {
   "cell_type": "code",
   "execution_count": 5,
   "id": "e41bdd8d",
   "metadata": {},
   "outputs": [
    {
     "data": {
      "image/png": "[encoded data removed]",
      "text/plain": [
       "<Figure size 1080x504 with 1 Axes>"
      ]
     },
     "metadata": {
      "needs_background": "light"
     },
     "output_type": "display_data"
    }
   ],
   "source": [
    "cat_ages_bars()"
   ]
  },
  {
   "cell_type": "markdown",
   "id": "d3b58c91",
   "metadata": {},
   "source": [
    "- **Выводы**: Наблюдается **дисбаланс классов** целеовй переменной **target_age**\n",
    "\n",
    "<!-- попробую решить это путём стратификации -->"
   ]
  },
  {
   "cell_type": "markdown",
   "id": "56583d48",
   "metadata": {},
   "source": [
    "### 4.1.2. Целевой признак по полу."
   ]
  },
  {
   "cell_type": "code",
   "execution_count": 10,
   "id": "5ef10fa9",
   "metadata": {},
   "outputs": [
    {
     "data": {
      "text/html": [
       "<div>\n",
       "<style scoped>\n",
       "    .dataframe tbody tr th:only-of-type {\n",
       "        vertical-align: middle;\n",
       "    }\n",
       "\n",
       "    .dataframe tbody tr th {\n",
       "        vertical-align: top;\n",
       "    }\n",
       "\n",
       "    .dataframe thead th {\n",
       "        text-align: right;\n",
       "    }\n",
       "</style>\n",
       "<table border=\"1\" class=\"dataframe\">\n",
       "  <thead>\n",
       "    <tr style=\"text-align: right;\">\n",
       "      <th></th>\n",
       "      <th>user_id</th>\n",
       "      <th>is_male</th>\n",
       "    </tr>\n",
       "  </thead>\n",
       "  <tbody>\n",
       "    <tr>\n",
       "      <th>263503</th>\n",
       "      <td>225374</td>\n",
       "      <td>1</td>\n",
       "    </tr>\n",
       "    <tr>\n",
       "      <th>263504</th>\n",
       "      <td>25776</td>\n",
       "      <td>1</td>\n",
       "    </tr>\n",
       "    <tr>\n",
       "      <th>263505</th>\n",
       "      <td>148131</td>\n",
       "      <td>0</td>\n",
       "    </tr>\n",
       "    <tr>\n",
       "      <th>263506</th>\n",
       "      <td>205570</td>\n",
       "      <td>1</td>\n",
       "    </tr>\n",
       "    <tr>\n",
       "      <th>263507</th>\n",
       "      <td>103148</td>\n",
       "      <td>1</td>\n",
       "    </tr>\n",
       "  </tbody>\n",
       "</table>\n",
       "</div>"
      ],
      "text/plain": [
       "        user_id  is_male\n",
       "263503   225374        1\n",
       "263504    25776        1\n",
       "263505   148131        0\n",
       "263506   205570        1\n",
       "263507   103148        1"
      ]
     },
     "execution_count": 10,
     "metadata": {},
     "output_type": "execute_result"
    }
   ],
   "source": [
    "targets = pd.read_parquet(f'{LOCAL_DATA_PATH}/{PREP_DATA}/{TARGET_FILE_MALE}')\n",
    "targets.tail()"
   ]
  },
  {
   "cell_type": "code",
   "execution_count": 11,
   "id": "0bcab9c9",
   "metadata": {},
   "outputs": [
    {
     "name": "stdout",
     "output_type": "stream",
     "text": [
      "<class 'pandas.core.frame.DataFrame'>\n",
      "RangeIndex: 263508 entries, 0 to 263507\n",
      "Data columns (total 2 columns):\n",
      " #   Column   Non-Null Count   Dtype\n",
      "---  ------   --------------   -----\n",
      " 0   user_id  263508 non-null  int64\n",
      " 1   is_male  263508 non-null  int8 \n",
      "dtypes: int64(1), int8(1)\n",
      "memory usage: 2.3 MB\n"
     ]
    }
   ],
   "source": [
    "targets.info()"
   ]
  },
  {
   "cell_type": "code",
   "execution_count": 6,
   "id": "18ec334b",
   "metadata": {},
   "outputs": [],
   "source": [
    "def gender_bars():\n",
    "    \"\"\"\n",
    "    4.1.2. Целевой признак по полу.\n",
    "    \"\"\"\n",
    "    targets = pd.read_parquet(f'{LOCAL_DATA_PATH}/{PREP_DATA}/{TARGET_FILE_MALE}')\n",
    "    \n",
    "    # нормирование\n",
    "    norm_target = (targets\n",
    "                   .is_male\n",
    "                   .value_counts(normalize=True)\n",
    "                   .mul(100)\n",
    "                   .rename('percent')\n",
    "                   .reset_index())\n",
    "\n",
    "    plt.figure(figsize=(10, 7))\n",
    "    ax = sns.barplot(x='index', y='percent', data=norm_target)\n",
    "\n",
    "    plot_text(ax)\n",
    "\n",
    "    plt.title('Барплот новых возрастных классов', fontsize=20)\n",
    "    plt.xlabel('Классы возраста', fontsize=14)\n",
    "    plt.ylabel('Проценты', fontsize=14)\n",
    "\n",
    "    plt.xticks(fontsize=14)\n",
    "    plt.yticks(fontsize=14)\n",
    "    \n",
    "    del targets\n",
    "    gc.collect();"
   ]
  },
  {
   "cell_type": "code",
   "execution_count": 7,
   "id": "817d2861",
   "metadata": {},
   "outputs": [
    {
     "data": {
      "image/png": "[encoded data removed]",
      "text/plain": [
       "<Figure size 720x504 with 1 Axes>"
      ]
     },
     "metadata": {
      "needs_background": "light"
     },
     "output_type": "display_data"
    }
   ],
   "source": [
    "gender_bars()"
   ]
  },
  {
   "cell_type": "markdown",
   "id": "fd3ba732",
   "metadata": {},
   "source": [
    "- **Выводы**: Класс **is_male** довольно **неплохо сбалансирован**!"
   ]
  },
  {
   "cell_type": "markdown",
   "id": "85adfad6",
   "metadata": {},
   "source": [
    "### 4.2. Исследованние не целевых признанков и гипотезы по ним."
   ]
  },
  {
   "cell_type": "code",
   "execution_count": 14,
   "id": "d9ccba3b",
   "metadata": {},
   "outputs": [],
   "source": [
    "# load \n",
    "data = pd.read_parquet(f\"{LOCAL_DATA_PATH}/{PREP_DATA}/prep_data_with_2_targets.parquet\")"
   ]
  },
  {
   "cell_type": "code",
   "execution_count": 15,
   "id": "66aa7bbc",
   "metadata": {},
   "outputs": [
    {
     "data": {
      "text/plain": [
       "(263499, 6139)"
      ]
     },
     "execution_count": 15,
     "metadata": {},
     "output_type": "execute_result"
    }
   ],
   "source": [
    "data.shape"
   ]
  },
  {
   "cell_type": "markdown",
   "id": "f26fe464",
   "metadata": {},
   "source": [
    "посмотрим на признаки, которые можно как-то сраввнить друг с другом"
   ]
  },
  {
   "cell_type": "code",
   "execution_count": 16,
   "id": "2dab6606",
   "metadata": {},
   "outputs": [
    {
     "data": {
      "text/html": [
       "<div>\n",
       "<style scoped>\n",
       "    .dataframe tbody tr th:only-of-type {\n",
       "        vertical-align: middle;\n",
       "    }\n",
       "\n",
       "    .dataframe tbody tr th {\n",
       "        vertical-align: top;\n",
       "    }\n",
       "\n",
       "    .dataframe thead th {\n",
       "        text-align: right;\n",
       "    }\n",
       "</style>\n",
       "<table border=\"1\" class=\"dataframe\">\n",
       "  <thead>\n",
       "    <tr style=\"text-align: right;\">\n",
       "      <th></th>\n",
       "      <th>user_id</th>\n",
       "      <th>cpe_manufacturer_name</th>\n",
       "      <th>cpe_model_os_type</th>\n",
       "      <th>price</th>\n",
       "      <th>day</th>\n",
       "      <th>evening</th>\n",
       "      <th>morning</th>\n",
       "      <th>night</th>\n",
       "      <th>fri</th>\n",
       "      <th>mon</th>\n",
       "      <th>sat</th>\n",
       "      <th>sun</th>\n",
       "      <th>thu</th>\n",
       "      <th>tue</th>\n",
       "      <th>wed</th>\n",
       "      <th>is_male</th>\n",
       "      <th>age_target</th>\n",
       "    </tr>\n",
       "  </thead>\n",
       "  <tbody>\n",
       "    <tr>\n",
       "      <th>263494</th>\n",
       "      <td>415281</td>\n",
       "      <td>LG</td>\n",
       "      <td>Android</td>\n",
       "      <td>3040</td>\n",
       "      <td>1</td>\n",
       "      <td>0</td>\n",
       "      <td>0</td>\n",
       "      <td>0</td>\n",
       "      <td>1</td>\n",
       "      <td>0</td>\n",
       "      <td>0</td>\n",
       "      <td>0</td>\n",
       "      <td>0</td>\n",
       "      <td>0</td>\n",
       "      <td>0</td>\n",
       "      <td>0</td>\n",
       "      <td>5</td>\n",
       "    </tr>\n",
       "    <tr>\n",
       "      <th>263495</th>\n",
       "      <td>415287</td>\n",
       "      <td>Huawei</td>\n",
       "      <td>Android</td>\n",
       "      <td>7990</td>\n",
       "      <td>0</td>\n",
       "      <td>0</td>\n",
       "      <td>2</td>\n",
       "      <td>0</td>\n",
       "      <td>0</td>\n",
       "      <td>0</td>\n",
       "      <td>0</td>\n",
       "      <td>0</td>\n",
       "      <td>2</td>\n",
       "      <td>0</td>\n",
       "      <td>0</td>\n",
       "      <td>1</td>\n",
       "      <td>3</td>\n",
       "    </tr>\n",
       "    <tr>\n",
       "      <th>263496</th>\n",
       "      <td>415289</td>\n",
       "      <td>Huawei</td>\n",
       "      <td>Android</td>\n",
       "      <td>15326</td>\n",
       "      <td>0</td>\n",
       "      <td>1</td>\n",
       "      <td>0</td>\n",
       "      <td>1</td>\n",
       "      <td>2</td>\n",
       "      <td>0</td>\n",
       "      <td>0</td>\n",
       "      <td>0</td>\n",
       "      <td>0</td>\n",
       "      <td>0</td>\n",
       "      <td>0</td>\n",
       "      <td>1</td>\n",
       "      <td>3</td>\n",
       "    </tr>\n",
       "    <tr>\n",
       "      <th>263497</th>\n",
       "      <td>415295</td>\n",
       "      <td>Huawei</td>\n",
       "      <td>Android</td>\n",
       "      <td>8990</td>\n",
       "      <td>0</td>\n",
       "      <td>4</td>\n",
       "      <td>0</td>\n",
       "      <td>0</td>\n",
       "      <td>3</td>\n",
       "      <td>1</td>\n",
       "      <td>0</td>\n",
       "      <td>0</td>\n",
       "      <td>0</td>\n",
       "      <td>0</td>\n",
       "      <td>0</td>\n",
       "      <td>1</td>\n",
       "      <td>2</td>\n",
       "    </tr>\n",
       "    <tr>\n",
       "      <th>263498</th>\n",
       "      <td>415311</td>\n",
       "      <td>Huawei</td>\n",
       "      <td>Android</td>\n",
       "      <td>7990</td>\n",
       "      <td>0</td>\n",
       "      <td>1</td>\n",
       "      <td>0</td>\n",
       "      <td>0</td>\n",
       "      <td>0</td>\n",
       "      <td>0</td>\n",
       "      <td>0</td>\n",
       "      <td>0</td>\n",
       "      <td>0</td>\n",
       "      <td>1</td>\n",
       "      <td>0</td>\n",
       "      <td>0</td>\n",
       "      <td>2</td>\n",
       "    </tr>\n",
       "  </tbody>\n",
       "</table>\n",
       "</div>"
      ],
      "text/plain": [
       "        user_id cpe_manufacturer_name cpe_model_os_type  price  day  evening  \\\n",
       "263494   415281                    LG           Android   3040    1        0   \n",
       "263495   415287                Huawei           Android   7990    0        0   \n",
       "263496   415289                Huawei           Android  15326    0        1   \n",
       "263497   415295                Huawei           Android   8990    0        4   \n",
       "263498   415311                Huawei           Android   7990    0        1   \n",
       "\n",
       "        morning  night  fri  mon  sat  sun  thu  tue  wed  is_male  age_target  \n",
       "263494        0      0    1    0    0    0    0    0    0        0           5  \n",
       "263495        2      0    0    0    0    0    2    0    0        1           3  \n",
       "263496        0      1    2    0    0    0    0    0    0        1           3  \n",
       "263497        0      0    3    1    0    0    0    0    0        1           2  \n",
       "263498        0      0    0    0    0    0    0    1    0        0           2  "
      ]
     },
     "execution_count": 16,
     "metadata": {},
     "output_type": "execute_result"
    }
   ],
   "source": [
    "data = data[['user_id', 'cpe_manufacturer_name', 'cpe_model_os_type',\n",
    "    'price', 'day', 'evening', 'morning', 'night',\n",
    "    'fri', 'mon', 'sat', 'sun', 'thu', 'tue', 'wed',\n",
    "    'is_male', 'age_target']]\n",
    "data.tail()"
   ]
  },
  {
   "cell_type": "markdown",
   "id": "4e22c89f",
   "metadata": {},
   "source": [
    "### 4.2.1. Гипотеза: гендер или возраст влияет на кол-во переходов по ссылкам."
   ]
  },
  {
   "cell_type": "code",
   "execution_count": 19,
   "id": "7dee68a2",
   "metadata": {},
   "outputs": [
    {
     "data": {
      "text/html": [
       "<div>\n",
       "<style scoped>\n",
       "    .dataframe tbody tr th:only-of-type {\n",
       "        vertical-align: middle;\n",
       "    }\n",
       "\n",
       "    .dataframe tbody tr th {\n",
       "        vertical-align: top;\n",
       "    }\n",
       "\n",
       "    .dataframe thead th {\n",
       "        text-align: right;\n",
       "    }\n",
       "</style>\n",
       "<table border=\"1\" class=\"dataframe\">\n",
       "  <thead>\n",
       "    <tr style=\"text-align: right;\">\n",
       "      <th></th>\n",
       "      <th>user_id</th>\n",
       "      <th>url_count</th>\n",
       "      <th>is_male</th>\n",
       "      <th>age_target</th>\n",
       "    </tr>\n",
       "  </thead>\n",
       "  <tbody>\n",
       "    <tr>\n",
       "      <th>0</th>\n",
       "      <td>4</td>\n",
       "      <td>591</td>\n",
       "      <td>0</td>\n",
       "      <td>1</td>\n",
       "    </tr>\n",
       "    <tr>\n",
       "      <th>1</th>\n",
       "      <td>16</td>\n",
       "      <td>1231</td>\n",
       "      <td>0</td>\n",
       "      <td>4</td>\n",
       "    </tr>\n",
       "    <tr>\n",
       "      <th>2</th>\n",
       "      <td>18</td>\n",
       "      <td>1125</td>\n",
       "      <td>1</td>\n",
       "      <td>3</td>\n",
       "    </tr>\n",
       "    <tr>\n",
       "      <th>3</th>\n",
       "      <td>26</td>\n",
       "      <td>1018</td>\n",
       "      <td>0</td>\n",
       "      <td>4</td>\n",
       "    </tr>\n",
       "    <tr>\n",
       "      <th>4</th>\n",
       "      <td>29</td>\n",
       "      <td>1458</td>\n",
       "      <td>0</td>\n",
       "      <td>1</td>\n",
       "    </tr>\n",
       "  </tbody>\n",
       "</table>\n",
       "</div>"
      ],
      "text/plain": [
       "   user_id  url_count  is_male  age_target\n",
       "0        4        591        0           1\n",
       "1       16       1231        0           4\n",
       "2       18       1125        1           3\n",
       "3       26       1018        0           4\n",
       "4       29       1458        0           1"
      ]
     },
     "execution_count": 19,
     "metadata": {},
     "output_type": "execute_result"
    }
   ],
   "source": [
    "# новый признак с подсчётом количества переходов по ссылкам\n",
    "data['url_count'] = data.loc[:, 'day': 'night'].sum(axis=1)\n",
    "data[['user_id', 'url_count', 'is_male','age_target']].head()"
   ]
  },
  {
   "cell_type": "code",
   "execution_count": 10,
   "id": "79cf5064",
   "metadata": {},
   "outputs": [],
   "source": [
    "def url_count_gender_bars():\n",
    "    \n",
    "    # load\n",
    "    data = pd.read_parquet(f\"{LOCAL_DATA_PATH}/{PREP_DATA}/prep_data_with_2_targets.parquet\")\n",
    "    # новый признак подсчета переходов по ссылкам пользователя\n",
    "    data['url_count'] = data.loc[:, 'day': 'night'].sum(axis=1)\n",
    "    \n",
    "    # График\n",
    "    fig = plt.subplots(figsize=(15, 5))\n",
    "\n",
    "    sns.barplot(x='url_count', \n",
    "                y='age_target', \n",
    "                data=data, \n",
    "                hue='is_male',\n",
    "                palette=[\"#ff796c\", \"#0485d1\"],\n",
    "                orient='h').set(title='Переходы по ссылкам относительно возраста в разрезе пола')\n",
    "        \n",
    "    del data\n",
    "    gc.collect();"
   ]
  },
  {
   "cell_type": "code",
   "execution_count": 11,
   "id": "17ea53f1",
   "metadata": {},
   "outputs": [
    {
     "data": {
      "image/png": "[encoded data removed]",
      "text/plain": [
       "<Figure size 1080x360 with 1 Axes>"
      ]
     },
     "metadata": {
      "needs_background": "light"
     },
     "output_type": "display_data"
    }
   ],
   "source": [
    "url_count_gender_bars()"
   ]
  },
  {
   "cell_type": "markdown",
   "id": "7f5d1e2c",
   "metadata": {},
   "source": [
    "- **Выводы**: Видна зависимость - чем **старше пользователь**, тем **меньше переходов по ссылкам** совершает пользователь **вне зависимости от пола**."
   ]
  },
  {
   "cell_type": "markdown",
   "id": "7e68823f",
   "metadata": {},
   "source": [
    "### 4.2.2. Гипотеза: стоимость ус-ва влияет на пол или возраст."
   ]
  },
  {
   "cell_type": "code",
   "execution_count": 3,
   "id": "c9b79a1d",
   "metadata": {},
   "outputs": [],
   "source": [
    "def price_gender_bars():\n",
    "\n",
    "    # load\n",
    "    data = pd.read_parquet(f\"{LOCAL_DATA_PATH}/{PREP_DATA}/prep_data_with_2_targets.parquet\")\n",
    "\n",
    "    # График\n",
    "    fig = plt.subplots(figsize=(15, 5))\n",
    "\n",
    "    sns.barplot(x='age_target', \n",
    "                y='price',\n",
    "                data=data,\n",
    "                hue='is_male',\n",
    "                palette='magma_r'\n",
    "               ).set(title='Влияние стоимости ус-ва на возраст в разрезе пола')\n",
    "    \n",
    "    del data\n",
    "    gc.collect();"
   ]
  },
  {
   "cell_type": "code",
   "execution_count": 4,
   "id": "70fc9732",
   "metadata": {},
   "outputs": [
    {
     "data": {
      "image/png": "[encoded data removed]",
      "text/plain": [
       "<Figure size 1080x360 with 1 Axes>"
      ]
     },
     "metadata": {
      "needs_background": "light"
     },
     "output_type": "display_data"
    }
   ],
   "source": [
    "price_gender_bars()"
   ]
  },
  {
   "cell_type": "code",
   "execution_count": 5,
   "id": "6cbe3297",
   "metadata": {},
   "outputs": [],
   "source": [
    "def price_gender_boxplot():\n",
    "\n",
    "    # load\n",
    "    data = pd.read_parquet(f\"{LOCAL_DATA_PATH}/{PREP_DATA}/prep_data_with_2_targets.parquet\")    \n",
    "    \n",
    "    # График\n",
    "    fig = plt.subplots(figsize=(15, 10))\n",
    "    sns.boxplot(data=data, \n",
    "                x='age_target', \n",
    "                y='price',\n",
    "                hue='is_male',\n",
    "                palette='rocket')\n",
    "    \n",
    "    del data\n",
    "    gc.collect();"
   ]
  },
  {
   "cell_type": "code",
   "execution_count": 6,
   "id": "976cddcb",
   "metadata": {},
   "outputs": [
    {
     "data": {
      "image/png": "[encoded data removed]",
      "text/plain": [
       "<Figure size 1080x720 with 1 Axes>"
      ]
     },
     "metadata": {
      "needs_background": "light"
     },
     "output_type": "display_data"
    }
   ],
   "source": [
    "price_gender_boxplot()"
   ]
  },
  {
   "cell_type": "markdown",
   "id": "98302445",
   "metadata": {},
   "source": [
    "- **Выводы**: Заметно, что у **молодых** пользователей более дорогие ус-ва, чаще у **женского пола**, **с возрастом** тенденция меняется **наоборот**."
   ]
  },
  {
   "cell_type": "markdown",
   "id": "da7b2965",
   "metadata": {},
   "source": [
    "### 4.2.3. Гипотеза:  произвоидтель ус-ва влияет на пол или возраст ."
   ]
  },
  {
   "cell_type": "code",
   "execution_count": 26,
   "id": "92828954",
   "metadata": {},
   "outputs": [
    {
     "data": {
      "text/html": [
       "<div>\n",
       "<style scoped>\n",
       "    .dataframe tbody tr th:only-of-type {\n",
       "        vertical-align: middle;\n",
       "    }\n",
       "\n",
       "    .dataframe tbody tr th {\n",
       "        vertical-align: top;\n",
       "    }\n",
       "\n",
       "    .dataframe thead th {\n",
       "        text-align: right;\n",
       "    }\n",
       "</style>\n",
       "<table border=\"1\" class=\"dataframe\">\n",
       "  <thead>\n",
       "    <tr style=\"text-align: right;\">\n",
       "      <th></th>\n",
       "      <th>user_id</th>\n",
       "      <th>cpe_manufacturer_name</th>\n",
       "      <th>cpe_model_os_type</th>\n",
       "      <th>is_male</th>\n",
       "      <th>age_target</th>\n",
       "    </tr>\n",
       "  </thead>\n",
       "  <tbody>\n",
       "    <tr>\n",
       "      <th>263494</th>\n",
       "      <td>415281</td>\n",
       "      <td>LG</td>\n",
       "      <td>Android</td>\n",
       "      <td>0</td>\n",
       "      <td>5</td>\n",
       "    </tr>\n",
       "    <tr>\n",
       "      <th>263495</th>\n",
       "      <td>415287</td>\n",
       "      <td>Huawei</td>\n",
       "      <td>Android</td>\n",
       "      <td>1</td>\n",
       "      <td>3</td>\n",
       "    </tr>\n",
       "    <tr>\n",
       "      <th>263496</th>\n",
       "      <td>415289</td>\n",
       "      <td>Huawei</td>\n",
       "      <td>Android</td>\n",
       "      <td>1</td>\n",
       "      <td>3</td>\n",
       "    </tr>\n",
       "    <tr>\n",
       "      <th>263497</th>\n",
       "      <td>415295</td>\n",
       "      <td>Huawei</td>\n",
       "      <td>Android</td>\n",
       "      <td>1</td>\n",
       "      <td>2</td>\n",
       "    </tr>\n",
       "    <tr>\n",
       "      <th>263498</th>\n",
       "      <td>415311</td>\n",
       "      <td>Huawei</td>\n",
       "      <td>Android</td>\n",
       "      <td>0</td>\n",
       "      <td>2</td>\n",
       "    </tr>\n",
       "  </tbody>\n",
       "</table>\n",
       "</div>"
      ],
      "text/plain": [
       "        user_id cpe_manufacturer_name cpe_model_os_type  is_male  age_target\n",
       "263494   415281                    LG           Android        0           5\n",
       "263495   415287                Huawei           Android        1           3\n",
       "263496   415289                Huawei           Android        1           3\n",
       "263497   415295                Huawei           Android        1           2\n",
       "263498   415311                Huawei           Android        0           2"
      ]
     },
     "execution_count": 26,
     "metadata": {},
     "output_type": "execute_result"
    }
   ],
   "source": [
    "data = pd.read_parquet(f\"{LOCAL_DATA_PATH}/{PREP_DATA}/prep_data_with_2_targets.parquet\")\n",
    "\n",
    "data = data[['user_id',\n",
    "          'cpe_manufacturer_name', \n",
    "          'cpe_model_os_type',\n",
    "          'is_male', 'age_target']]\n",
    "data.tail()"
   ]
  },
  {
   "cell_type": "code",
   "execution_count": 30,
   "id": "1b90ebf1",
   "metadata": {},
   "outputs": [
    {
     "data": {
      "text/html": [
       "<div>\n",
       "<style scoped>\n",
       "    .dataframe tbody tr th:only-of-type {\n",
       "        vertical-align: middle;\n",
       "    }\n",
       "\n",
       "    .dataframe tbody tr th {\n",
       "        vertical-align: top;\n",
       "    }\n",
       "\n",
       "    .dataframe thead th {\n",
       "        text-align: right;\n",
       "    }\n",
       "</style>\n",
       "<table border=\"1\" class=\"dataframe\">\n",
       "  <thead>\n",
       "    <tr style=\"text-align: right;\">\n",
       "      <th></th>\n",
       "      <th>index</th>\n",
       "      <th>cpe_manufacturer_name</th>\n",
       "      <th>is_male</th>\n",
       "      <th>percent</th>\n",
       "    </tr>\n",
       "  </thead>\n",
       "  <tbody>\n",
       "    <tr>\n",
       "      <th>0</th>\n",
       "      <td>0</td>\n",
       "      <td>Apple</td>\n",
       "      <td>0</td>\n",
       "      <td>16.537824</td>\n",
       "    </tr>\n",
       "    <tr>\n",
       "      <th>1</th>\n",
       "      <td>1</td>\n",
       "      <td>Apple</td>\n",
       "      <td>1</td>\n",
       "      <td>15.469888</td>\n",
       "    </tr>\n",
       "    <tr>\n",
       "      <th>2</th>\n",
       "      <td>2</td>\n",
       "      <td>Samsung</td>\n",
       "      <td>0</td>\n",
       "      <td>14.031173</td>\n",
       "    </tr>\n",
       "    <tr>\n",
       "      <th>3</th>\n",
       "      <td>3</td>\n",
       "      <td>Samsung</td>\n",
       "      <td>1</td>\n",
       "      <td>13.850906</td>\n",
       "    </tr>\n",
       "    <tr>\n",
       "      <th>4</th>\n",
       "      <td>4</td>\n",
       "      <td>Huawei</td>\n",
       "      <td>1</td>\n",
       "      <td>11.501751</td>\n",
       "    </tr>\n",
       "    <tr>\n",
       "      <th>5</th>\n",
       "      <td>5</td>\n",
       "      <td>Huawei</td>\n",
       "      <td>0</td>\n",
       "      <td>10.688845</td>\n",
       "    </tr>\n",
       "    <tr>\n",
       "      <th>6</th>\n",
       "      <td>6</td>\n",
       "      <td>Xiaomi</td>\n",
       "      <td>1</td>\n",
       "      <td>8.656959</td>\n",
       "    </tr>\n",
       "    <tr>\n",
       "      <th>7</th>\n",
       "      <td>7</td>\n",
       "      <td>Xiaomi</td>\n",
       "      <td>0</td>\n",
       "      <td>6.429626</td>\n",
       "    </tr>\n",
       "  </tbody>\n",
       "</table>\n",
       "</div>"
      ],
      "text/plain": [
       "   index cpe_manufacturer_name  is_male    percent\n",
       "0      0                 Apple        0  16.537824\n",
       "1      1                 Apple        1  15.469888\n",
       "2      2               Samsung        0  14.031173\n",
       "3      3               Samsung        1  13.850906\n",
       "4      4                Huawei        1  11.501751\n",
       "5      5                Huawei        0  10.688845\n",
       "6      6                Xiaomi        1   8.656959\n",
       "7      7                Xiaomi        0   6.429626"
      ]
     },
     "execution_count": 30,
     "metadata": {},
     "output_type": "execute_result"
    }
   ],
   "source": [
    "# нормирование по гендеру\n",
    "norm_target = (data[['cpe_manufacturer_name','is_male']]\n",
    "               .value_counts(normalize=True)\n",
    "               .mul(100)\n",
    "               .rename('percent')\n",
    "               .reset_index())\n",
    "\n",
    "# фильрт\n",
    "norm_target = norm_target.loc[norm_target['percent'] > 1].reset_index()\n",
    "norm_target['cpe_manufacturer_name'] = norm_target.cpe_manufacturer_name.astype('O')\n",
    "\n",
    "norm_target"
   ]
  },
  {
   "cell_type": "code",
   "execution_count": 7,
   "id": "aec1c997",
   "metadata": {},
   "outputs": [],
   "source": [
    "def manufacturer_gender_bars():\n",
    "    \n",
    "    #load\n",
    "    data = pd.read_parquet(f\"{LOCAL_DATA_PATH}/{PREP_DATA}/prep_data_with_2_targets.parquet\")\n",
    "    data = data[['user_id',\n",
    "                   'cpe_manufacturer_name', \n",
    "                   'cpe_model_os_type',\n",
    "                   'is_male', 'age_target']]\n",
    "    \n",
    "    # нормирование по гендеру\n",
    "    norm_target = (data[['cpe_manufacturer_name','is_male']]\n",
    "                   .value_counts(normalize=True)\n",
    "                   .mul(100)\n",
    "                   .rename('percent')\n",
    "                   .reset_index())\n",
    "    \n",
    "    # фильтр незначительных элементов\n",
    "    norm_target = norm_target.loc[norm_target['percent'] > 1].reset_index()\n",
    "    norm_target['cpe_manufacturer_name'] = norm_target.cpe_manufacturer_name.astype('O')\n",
    "\n",
    "    # График\n",
    "    plt.figure(figsize=(15, 7))\n",
    "\n",
    "    ax = sns.barplot(x='percent',\n",
    "                     y='cpe_manufacturer_name',\n",
    "                     data=norm_target,\n",
    "                     hue='is_male',\n",
    "                     orient='h',\n",
    "                     palette='magma_r')\n",
    "\n",
    "    for p in ax.patches:\n",
    "        width = p.get_width()\n",
    "        plt.text(0.5+p.get_width(), p.get_y()+0.5*p.get_height(),\n",
    "                 '{:1.2f}'.format(width),\n",
    "                 ha='center', va='center')\n",
    "\n",
    "    plt.title('Влияет ли компания прозводитель на пол?', fontsize=20)\n",
    "    plt.xlabel('Проценты', fontsize=14)\n",
    "    plt.ylabel('Произодители', fontsize=14)\n",
    "\n",
    "    plt.xticks(fontsize=14)\n",
    "    plt.yticks(fontsize=14)\n",
    "\n",
    "    plt.show()\n",
    "    \n",
    "    del data\n",
    "    gc.collect();"
   ]
  },
  {
   "cell_type": "code",
   "execution_count": 8,
   "id": "9dbb3fc5",
   "metadata": {},
   "outputs": [
    {
     "data": {
      "image/png": "[encoded data removed]",
      "text/plain": [
       "<Figure size 1080x504 with 1 Axes>"
      ]
     },
     "metadata": {
      "needs_background": "light"
     },
     "output_type": "display_data"
    }
   ],
   "source": [
    "manufacturer_gender_bars()"
   ]
  },
  {
   "cell_type": "markdown",
   "id": "652a19e2",
   "metadata": {},
   "source": [
    "- **Вывод**: 1) Можно заметить, как у пользователей **apple** и **samsung** **женщин** **немного больше**, чем мужчин, а у **\"китайскиих\"** устройств пользователей **мужчин больше**."
   ]
  },
  {
   "cell_type": "code",
   "execution_count": 33,
   "id": "dabed2fa",
   "metadata": {},
   "outputs": [
    {
     "data": {
      "text/html": [
       "<div>\n",
       "<style scoped>\n",
       "    .dataframe tbody tr th:only-of-type {\n",
       "        vertical-align: middle;\n",
       "    }\n",
       "\n",
       "    .dataframe tbody tr th {\n",
       "        vertical-align: top;\n",
       "    }\n",
       "\n",
       "    .dataframe thead th {\n",
       "        text-align: right;\n",
       "    }\n",
       "</style>\n",
       "<table border=\"1\" class=\"dataframe\">\n",
       "  <thead>\n",
       "    <tr style=\"text-align: right;\">\n",
       "      <th></th>\n",
       "      <th>index</th>\n",
       "      <th>cpe_manufacturer_name</th>\n",
       "      <th>age_target</th>\n",
       "      <th>percent</th>\n",
       "    </tr>\n",
       "  </thead>\n",
       "  <tbody>\n",
       "    <tr>\n",
       "      <th>0</th>\n",
       "      <td>0</td>\n",
       "      <td>Apple</td>\n",
       "      <td>1</td>\n",
       "      <td>12.573103</td>\n",
       "    </tr>\n",
       "    <tr>\n",
       "      <th>1</th>\n",
       "      <td>1</td>\n",
       "      <td>Samsung</td>\n",
       "      <td>2</td>\n",
       "      <td>8.719578</td>\n",
       "    </tr>\n",
       "    <tr>\n",
       "      <th>2</th>\n",
       "      <td>2</td>\n",
       "      <td>Samsung</td>\n",
       "      <td>1</td>\n",
       "      <td>8.075173</td>\n",
       "    </tr>\n",
       "    <tr>\n",
       "      <th>3</th>\n",
       "      <td>3</td>\n",
       "      <td>Apple</td>\n",
       "      <td>2</td>\n",
       "      <td>7.315777</td>\n",
       "    </tr>\n",
       "    <tr>\n",
       "      <th>4</th>\n",
       "      <td>4</td>\n",
       "      <td>Huawei</td>\n",
       "      <td>2</td>\n",
       "      <td>7.214069</td>\n",
       "    </tr>\n",
       "    <tr>\n",
       "      <th>5</th>\n",
       "      <td>5</td>\n",
       "      <td>Apple</td>\n",
       "      <td>0</td>\n",
       "      <td>6.814447</td>\n",
       "    </tr>\n",
       "    <tr>\n",
       "      <th>6</th>\n",
       "      <td>6</td>\n",
       "      <td>Huawei</td>\n",
       "      <td>1</td>\n",
       "      <td>6.697938</td>\n",
       "    </tr>\n",
       "    <tr>\n",
       "      <th>7</th>\n",
       "      <td>7</td>\n",
       "      <td>Samsung</td>\n",
       "      <td>3</td>\n",
       "      <td>5.143094</td>\n",
       "    </tr>\n",
       "    <tr>\n",
       "      <th>8</th>\n",
       "      <td>8</td>\n",
       "      <td>Xiaomi</td>\n",
       "      <td>2</td>\n",
       "      <td>4.787115</td>\n",
       "    </tr>\n",
       "    <tr>\n",
       "      <th>9</th>\n",
       "      <td>9</td>\n",
       "      <td>Xiaomi</td>\n",
       "      <td>1</td>\n",
       "      <td>4.415577</td>\n",
       "    </tr>\n",
       "    <tr>\n",
       "      <th>10</th>\n",
       "      <td>10</td>\n",
       "      <td>Huawei</td>\n",
       "      <td>3</td>\n",
       "      <td>3.866428</td>\n",
       "    </tr>\n",
       "    <tr>\n",
       "      <th>11</th>\n",
       "      <td>11</td>\n",
       "      <td>Apple</td>\n",
       "      <td>3</td>\n",
       "      <td>3.372688</td>\n",
       "    </tr>\n",
       "    <tr>\n",
       "      <th>12</th>\n",
       "      <td>12</td>\n",
       "      <td>Samsung</td>\n",
       "      <td>4</td>\n",
       "      <td>3.139670</td>\n",
       "    </tr>\n",
       "    <tr>\n",
       "      <th>13</th>\n",
       "      <td>13</td>\n",
       "      <td>Xiaomi</td>\n",
       "      <td>3</td>\n",
       "      <td>2.696405</td>\n",
       "    </tr>\n",
       "    <tr>\n",
       "      <th>14</th>\n",
       "      <td>14</td>\n",
       "      <td>Huawei</td>\n",
       "      <td>4</td>\n",
       "      <td>2.194695</td>\n",
       "    </tr>\n",
       "    <tr>\n",
       "      <th>15</th>\n",
       "      <td>15</td>\n",
       "      <td>Samsung</td>\n",
       "      <td>0</td>\n",
       "      <td>2.022399</td>\n",
       "    </tr>\n",
       "    <tr>\n",
       "      <th>16</th>\n",
       "      <td>16</td>\n",
       "      <td>Huawei</td>\n",
       "      <td>0</td>\n",
       "      <td>1.714997</td>\n",
       "    </tr>\n",
       "    <tr>\n",
       "      <th>17</th>\n",
       "      <td>17</td>\n",
       "      <td>Apple</td>\n",
       "      <td>4</td>\n",
       "      <td>1.595072</td>\n",
       "    </tr>\n",
       "    <tr>\n",
       "      <th>18</th>\n",
       "      <td>18</td>\n",
       "      <td>Xiaomi</td>\n",
       "      <td>4</td>\n",
       "      <td>1.565091</td>\n",
       "    </tr>\n",
       "    <tr>\n",
       "      <th>19</th>\n",
       "      <td>19</td>\n",
       "      <td>Xiaomi</td>\n",
       "      <td>0</td>\n",
       "      <td>1.256931</td>\n",
       "    </tr>\n",
       "  </tbody>\n",
       "</table>\n",
       "</div>"
      ],
      "text/plain": [
       "    index cpe_manufacturer_name  age_target    percent\n",
       "0       0                 Apple           1  12.573103\n",
       "1       1               Samsung           2   8.719578\n",
       "2       2               Samsung           1   8.075173\n",
       "3       3                 Apple           2   7.315777\n",
       "4       4                Huawei           2   7.214069\n",
       "5       5                 Apple           0   6.814447\n",
       "6       6                Huawei           1   6.697938\n",
       "7       7               Samsung           3   5.143094\n",
       "8       8                Xiaomi           2   4.787115\n",
       "9       9                Xiaomi           1   4.415577\n",
       "10     10                Huawei           3   3.866428\n",
       "11     11                 Apple           3   3.372688\n",
       "12     12               Samsung           4   3.139670\n",
       "13     13                Xiaomi           3   2.696405\n",
       "14     14                Huawei           4   2.194695\n",
       "15     15               Samsung           0   2.022399\n",
       "16     16                Huawei           0   1.714997\n",
       "17     17                 Apple           4   1.595072\n",
       "18     18                Xiaomi           4   1.565091\n",
       "19     19                Xiaomi           0   1.256931"
      ]
     },
     "execution_count": 33,
     "metadata": {},
     "output_type": "execute_result"
    }
   ],
   "source": [
    "data = pd.read_parquet(f\"{LOCAL_DATA_PATH}/{PREP_DATA}/prep_data_with_2_targets.parquet\")\n",
    "\n",
    "# нормирование по возрастным классам\n",
    "norm_target = (data[['cpe_manufacturer_name','age_target']]\n",
    "               .value_counts(normalize=True)\n",
    "               .mul(100)\n",
    "               .rename('percent')\n",
    "               .reset_index())\n",
    "# фильтр\n",
    "norm_target = norm_target.loc[norm_target['percent'] > 1].reset_index()\n",
    "norm_target['cpe_manufacturer_name'] = norm_target.cpe_manufacturer_name.astype('O')\n",
    "norm_target"
   ]
  },
  {
   "cell_type": "code",
   "execution_count": 9,
   "id": "58e03159",
   "metadata": {},
   "outputs": [],
   "source": [
    "def manufacturer_age_bars():\n",
    "    \n",
    "    #load\n",
    "    data = pd.read_parquet(f\"{LOCAL_DATA_PATH}/{PREP_DATA}/prep_data_with_2_targets.parquet\")\n",
    "    data = data[['user_id',\n",
    "                   'cpe_manufacturer_name', \n",
    "                   'cpe_model_os_type',\n",
    "                   'is_male', 'age_target']]\n",
    "    \n",
    "    # нормирование по возрастным классам\n",
    "    norm_target = (data[['cpe_manufacturer_name','age_target']]\n",
    "                   .value_counts(normalize=True)\n",
    "                   .mul(100)\n",
    "                   .rename('percent')\n",
    "                   .reset_index())\n",
    "    \n",
    "    # фильтр незначительных элементов\n",
    "    norm_target = norm_target.loc[norm_target['percent'] > 1].reset_index()\n",
    "    norm_target['cpe_manufacturer_name'] = norm_target.cpe_manufacturer_name.astype('O')\n",
    "\n",
    "    # График\n",
    "    plt.figure(figsize=(15, 7))\n",
    "\n",
    "    ax = sns.barplot(x='percent',\n",
    "                     y='cpe_manufacturer_name',\n",
    "                     data=norm_target,\n",
    "                     hue='age_target',\n",
    "                     orient='h',\n",
    "                     palette='magma_r')\n",
    "\n",
    "\n",
    "    for p in ax.patches:\n",
    "        width = p.get_width()\n",
    "        plt.text(0.5+p.get_width(), p.get_y()+0.5*p.get_height(),\n",
    "                 '{:1.2f}'.format(width),\n",
    "                 ha='center', va='center')\n",
    "\n",
    "    plt.title('Влияет ли компания прозводитель на возраст?', fontsize=20)\n",
    "    plt.xlabel('Проценты', fontsize=14)\n",
    "    plt.ylabel('Произодители', fontsize=14)\n",
    "\n",
    "    plt.xticks(fontsize=14)\n",
    "    plt.yticks(fontsize=14)\n",
    "\n",
    "    plt.show()    \n",
    "    \n",
    "    del data\n",
    "    gc.collect();"
   ]
  },
  {
   "cell_type": "code",
   "execution_count": 10,
   "id": "6ba158fb",
   "metadata": {},
   "outputs": [
    {
     "data": {
      "image/png": "[encoded data removed]",
      "text/plain": [
       "<Figure size 1080x504 with 1 Axes>"
      ]
     },
     "metadata": {
      "needs_background": "light"
     },
     "output_type": "display_data"
    }
   ],
   "source": [
    "manufacturer_age_bars()"
   ]
  },
  {
   "cell_type": "markdown",
   "id": "ff9ed48d",
   "metadata": {},
   "source": [
    "- **Вывод**: 2) Видно, как у **всех возрастных групп** *примерно одинаковая* картина распределения относительно производителей телефонов, но больше всего у apple. Сильно выделяется **apple** у которых **больше всего молодых пользователей** 1 и 2 класса, когда у **samsung** **больше** пользователей **2 и 3** класса."
   ]
  },
  {
   "cell_type": "markdown",
   "id": "d3958f41",
   "metadata": {},
   "source": [
    "### 4.2.4. Гипотеза: Операционная система влияет на возраст или пол."
   ]
  },
  {
   "cell_type": "code",
   "execution_count": 38,
   "id": "d03b3eee",
   "metadata": {},
   "outputs": [
    {
     "data": {
      "text/html": [
       "<div>\n",
       "<style scoped>\n",
       "    .dataframe tbody tr th:only-of-type {\n",
       "        vertical-align: middle;\n",
       "    }\n",
       "\n",
       "    .dataframe tbody tr th {\n",
       "        vertical-align: top;\n",
       "    }\n",
       "\n",
       "    .dataframe thead th {\n",
       "        text-align: right;\n",
       "    }\n",
       "</style>\n",
       "<table border=\"1\" class=\"dataframe\">\n",
       "  <thead>\n",
       "    <tr style=\"text-align: right;\">\n",
       "      <th></th>\n",
       "      <th>index</th>\n",
       "      <th>cpe_model_os_type</th>\n",
       "      <th>age_target</th>\n",
       "      <th>percent</th>\n",
       "    </tr>\n",
       "  </thead>\n",
       "  <tbody>\n",
       "    <tr>\n",
       "      <th>0</th>\n",
       "      <td>0</td>\n",
       "      <td>Android</td>\n",
       "      <td>2</td>\n",
       "      <td>21.637653</td>\n",
       "    </tr>\n",
       "    <tr>\n",
       "      <th>1</th>\n",
       "      <td>1</td>\n",
       "      <td>Android</td>\n",
       "      <td>1</td>\n",
       "      <td>19.947324</td>\n",
       "    </tr>\n",
       "    <tr>\n",
       "      <th>2</th>\n",
       "      <td>2</td>\n",
       "      <td>iOS</td>\n",
       "      <td>1</td>\n",
       "      <td>12.573103</td>\n",
       "    </tr>\n",
       "    <tr>\n",
       "      <th>3</th>\n",
       "      <td>3</td>\n",
       "      <td>Android</td>\n",
       "      <td>3</td>\n",
       "      <td>12.282779</td>\n",
       "    </tr>\n",
       "    <tr>\n",
       "      <th>4</th>\n",
       "      <td>4</td>\n",
       "      <td>iOS</td>\n",
       "      <td>2</td>\n",
       "      <td>7.315777</td>\n",
       "    </tr>\n",
       "    <tr>\n",
       "      <th>5</th>\n",
       "      <td>5</td>\n",
       "      <td>Android</td>\n",
       "      <td>4</td>\n",
       "      <td>7.220521</td>\n",
       "    </tr>\n",
       "    <tr>\n",
       "      <th>6</th>\n",
       "      <td>6</td>\n",
       "      <td>iOS</td>\n",
       "      <td>0</td>\n",
       "      <td>6.814447</td>\n",
       "    </tr>\n",
       "    <tr>\n",
       "      <th>7</th>\n",
       "      <td>7</td>\n",
       "      <td>Android</td>\n",
       "      <td>0</td>\n",
       "      <td>5.183321</td>\n",
       "    </tr>\n",
       "    <tr>\n",
       "      <th>8</th>\n",
       "      <td>8</td>\n",
       "      <td>iOS</td>\n",
       "      <td>3</td>\n",
       "      <td>3.372688</td>\n",
       "    </tr>\n",
       "    <tr>\n",
       "      <th>9</th>\n",
       "      <td>9</td>\n",
       "      <td>Android</td>\n",
       "      <td>5</td>\n",
       "      <td>1.720690</td>\n",
       "    </tr>\n",
       "    <tr>\n",
       "      <th>10</th>\n",
       "      <td>10</td>\n",
       "      <td>iOS</td>\n",
       "      <td>4</td>\n",
       "      <td>1.595072</td>\n",
       "    </tr>\n",
       "  </tbody>\n",
       "</table>\n",
       "</div>"
      ],
      "text/plain": [
       "    index cpe_model_os_type  age_target    percent\n",
       "0       0           Android           2  21.637653\n",
       "1       1           Android           1  19.947324\n",
       "2       2               iOS           1  12.573103\n",
       "3       3           Android           3  12.282779\n",
       "4       4               iOS           2   7.315777\n",
       "5       5           Android           4   7.220521\n",
       "6       6               iOS           0   6.814447\n",
       "7       7           Android           0   5.183321\n",
       "8       8               iOS           3   3.372688\n",
       "9       9           Android           5   1.720690\n",
       "10     10               iOS           4   1.595072"
      ]
     },
     "execution_count": 38,
     "metadata": {},
     "output_type": "execute_result"
    }
   ],
   "source": [
    "data = pd.read_parquet(f\"{LOCAL_DATA_PATH}/{PREP_DATA}/prep_data_with_2_targets.parquet\")\n",
    "\n",
    "# нормирование по возрастным классам\n",
    "norm_target = (data[['cpe_model_os_type','age_target']]\n",
    "               .value_counts(normalize=True)\n",
    "               .mul(100)\n",
    "               .rename('percent')\n",
    "               .reset_index())\n",
    "\n",
    "norm_target"
   ]
  },
  {
   "cell_type": "code",
   "execution_count": 11,
   "id": "ceb53d7a",
   "metadata": {},
   "outputs": [],
   "source": [
    "def os_age_bars():\n",
    "    \n",
    "    #load\n",
    "    data = pd.read_parquet(f\"{LOCAL_DATA_PATH}/{PREP_DATA}/prep_data_with_2_targets.parquet\")\n",
    "    data = data[['user_id',\n",
    "                 'cpe_manufacturer_name', \n",
    "                 'cpe_model_os_type',\n",
    "                 'is_male', 'age_target']]\n",
    "    \n",
    "    # нормирование по возрастным классам\n",
    "    norm_target = (data[['cpe_model_os_type','age_target']]\n",
    "                   .value_counts(normalize=True)\n",
    "                   .mul(100)\n",
    "                   .rename('percent')\n",
    "                   .reset_index())\n",
    "\n",
    "    # График\n",
    "    plt.figure(figsize=(15, 7))\n",
    "\n",
    "    ax = sns.barplot(x='percent',\n",
    "                     y='cpe_model_os_type',\n",
    "                     data=norm_target,\n",
    "                     hue='age_target',\n",
    "                     orient='h')\n",
    "\n",
    "    # Подписи процентов к барам\n",
    "    for p in ax.patches:\n",
    "        width = p.get_width()\n",
    "        plt.text(0.5+p.get_width(), p.get_y()+0.5*p.get_height(),\n",
    "                 '{:1.2f}'.format(width),\n",
    "                 ha='center', va='center')\n",
    "\n",
    "    plt.title('Зависимость ОС и возраста', fontsize=20)\n",
    "    plt.xlabel('Проценты', fontsize=14)\n",
    "    plt.ylabel('Произодители', fontsize=14)\n",
    "\n",
    "    plt.xticks(fontsize=14)\n",
    "    plt.yticks(fontsize=14)\n",
    "\n",
    "    plt.show()\n",
    "    \n",
    "    del data\n",
    "    gc.collect();"
   ]
  },
  {
   "cell_type": "code",
   "execution_count": 12,
   "id": "dcff6e7d",
   "metadata": {},
   "outputs": [
    {
     "data": {
      "image/png": "[encoded data removed]",
      "text/plain": [
       "<Figure size 1080x504 with 1 Axes>"
      ]
     },
     "metadata": {
      "needs_background": "light"
     },
     "output_type": "display_data"
    }
   ],
   "source": [
    "os_age_bars()"
   ]
  },
  {
   "cell_type": "markdown",
   "id": "447cb82e",
   "metadata": {},
   "source": [
    "**Выводы**: у **android** пользователей сильнее всего **выделяются** возрастные группы **2, 3 и 4 класса**"
   ]
  },
  {
   "cell_type": "code",
   "execution_count": 41,
   "id": "006702e9",
   "metadata": {},
   "outputs": [
    {
     "data": {
      "text/html": [
       "<div>\n",
       "<style scoped>\n",
       "    .dataframe tbody tr th:only-of-type {\n",
       "        vertical-align: middle;\n",
       "    }\n",
       "\n",
       "    .dataframe tbody tr th {\n",
       "        vertical-align: top;\n",
       "    }\n",
       "\n",
       "    .dataframe thead th {\n",
       "        text-align: right;\n",
       "    }\n",
       "</style>\n",
       "<table border=\"1\" class=\"dataframe\">\n",
       "  <thead>\n",
       "    <tr style=\"text-align: right;\">\n",
       "      <th></th>\n",
       "      <th>cpe_model_os_type</th>\n",
       "      <th>is_male</th>\n",
       "      <th>percent</th>\n",
       "    </tr>\n",
       "  </thead>\n",
       "  <tbody>\n",
       "    <tr>\n",
       "      <th>0</th>\n",
       "      <td>Android</td>\n",
       "      <td>1</td>\n",
       "      <td>35.720439</td>\n",
       "    </tr>\n",
       "    <tr>\n",
       "      <th>1</th>\n",
       "      <td>Android</td>\n",
       "      <td>0</td>\n",
       "      <td>32.271849</td>\n",
       "    </tr>\n",
       "    <tr>\n",
       "      <th>2</th>\n",
       "      <td>iOS</td>\n",
       "      <td>0</td>\n",
       "      <td>16.537824</td>\n",
       "    </tr>\n",
       "    <tr>\n",
       "      <th>3</th>\n",
       "      <td>iOS</td>\n",
       "      <td>1</td>\n",
       "      <td>15.469888</td>\n",
       "    </tr>\n",
       "  </tbody>\n",
       "</table>\n",
       "</div>"
      ],
      "text/plain": [
       "  cpe_model_os_type  is_male    percent\n",
       "0           Android        1  35.720439\n",
       "1           Android        0  32.271849\n",
       "2               iOS        0  16.537824\n",
       "3               iOS        1  15.469888"
      ]
     },
     "execution_count": 41,
     "metadata": {},
     "output_type": "execute_result"
    }
   ],
   "source": [
    "data = pd.read_parquet(f\"{LOCAL_DATA_PATH}/{PREP_DATA}/prep_data_with_2_targets.parquet\")\n",
    "\n",
    "# нормирование по возрастным классам\n",
    "norm_target = (data[['cpe_model_os_type','is_male']]\n",
    "               .value_counts(normalize=True)\n",
    "               .mul(100)\n",
    "               .rename('percent')\n",
    "               .reset_index())\n",
    "\n",
    "norm_target"
   ]
  },
  {
   "cell_type": "code",
   "execution_count": 13,
   "id": "e31d84f0",
   "metadata": {},
   "outputs": [],
   "source": [
    "def os_gender_bars():\n",
    "    \n",
    "    #load    \n",
    "    data = pd.read_parquet(f\"{LOCAL_DATA_PATH}/{PREP_DATA}/prep_data_with_2_targets.parquet\")\n",
    "    \n",
    "    # нормирование\n",
    "    norm_target = (data[['cpe_model_os_type','is_male']]\n",
    "                   .value_counts(normalize=True)\n",
    "                   .mul(100)\n",
    "                   .rename('percent')\n",
    "                   .reset_index())\n",
    "\n",
    "    # График\n",
    "    plt.figure(figsize=(15, 6))\n",
    "\n",
    "    ax = sns.barplot(x='percent',\n",
    "                     y='cpe_model_os_type',\n",
    "                     data=norm_target,\n",
    "                     hue='is_male',\n",
    "                     orient='h',\n",
    "                     palette='magma_r')\n",
    "\n",
    "    # Подписи процентов к барам\n",
    "    for p in ax.patches:\n",
    "        width = p.get_width()\n",
    "        plt.text(1+p.get_width(), p.get_y()+0.1*p.get_height(),\n",
    "                 '{:1.2f}'.format(width),\n",
    "                 ha='center', va='center')\n",
    "\n",
    "    plt.title('Зависимость гендера и OC', fontsize=20)\n",
    "    plt.xlabel('Проценты', fontsize=14)\n",
    "    plt.ylabel('OC', fontsize=14)\n",
    "\n",
    "    plt.xticks(fontsize=14)\n",
    "    plt.yticks(fontsize=14)\n",
    "\n",
    "    plt.show()\n",
    "    \n",
    "    del data\n",
    "    gc.collect();"
   ]
  },
  {
   "cell_type": "code",
   "execution_count": 14,
   "id": "809705f6",
   "metadata": {},
   "outputs": [
    {
     "data": {
      "image/png": "[encoded data removed]",
      "text/plain": [
       "<Figure size 1080x432 with 1 Axes>"
      ]
     },
     "metadata": {
      "needs_background": "light"
     },
     "output_type": "display_data"
    }
   ],
   "source": [
    "os_gender_bars()"
   ]
  },
  {
   "cell_type": "markdown",
   "id": "a618a81a",
   "metadata": {},
   "source": [
    "- **Выводы**: В наших данных у пользователей android вдвое больше пользователей мужчин и женщин чем у apple. Так же у пользователей android больше всего мужчин."
   ]
  },
  {
   "cell_type": "markdown",
   "id": "084909ba",
   "metadata": {},
   "source": [
    "- Вывод: В основном на гендерные и возрастные классы большую часть влияют ulr по которым переходят пользователи"
   ]
  },
  {
   "cell_type": "markdown",
   "id": "cf8403f4",
   "metadata": {},
   "source": [
    "---\n",
    "# 5. ML parts"
   ]
  },
  {
   "cell_type": "markdown",
   "id": "7215107b",
   "metadata": {},
   "source": [
    "Продолжение в ноутбуке Train"
   ]
  }
 ],
 "metadata": {
  "kernelspec": {
   "display_name": "Python 3 (ipykernel)",
   "language": "python",
   "name": "python3"
  },
  "language_info": {
   "codemirror_mode": {
    "name": "ipython",
    "version": 3
   },
   "file_extension": ".py",
   "mimetype": "text/x-python",
   "name": "python",
   "nbconvert_exporter": "python",
   "pygments_lexer": "ipython3",
   "version": "3.11.4"
  }
 },
 "nbformat": 4,
 "nbformat_minor": 5
}
